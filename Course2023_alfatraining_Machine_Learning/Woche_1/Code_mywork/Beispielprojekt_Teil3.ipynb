{
 "cells": [
  {
   "cell_type": "markdown",
   "metadata": {},
   "source": [
    "# Chapter 2 – End-to-end Machine Learning project"
   ]
  },
  {
   "cell_type": "code",
   "execution_count": 1,
   "metadata": {},
   "outputs": [],
   "source": [
    "import numpy as np\n",
    "import pandas as pd"
   ]
  },
  {
   "cell_type": "code",
   "execution_count": 2,
   "metadata": {},
   "outputs": [
    {
     "data": {
      "text/plain": [
       "array([153000., 236700., 143300., ..., 278100., 500001.,  90600.])"
      ]
     },
     "execution_count": 2,
     "metadata": {},
     "output_type": "execute_result"
    }
   ],
   "source": [
    "import pickle\n",
    "\n",
    "with open('datasets/housing_train_prepared.pickle', 'rb') as f:\n",
    "    housing_train_data = pickle.load(f)\n",
    "with open('datasets/housing_train_labels.pickle', 'rb') as f2:\n",
    "    housing_train_labels_pandas = pickle.load(f2)\n",
    "# Testen, ob alles gut gegangen ist\n",
    "housing_train_data[:10]\n",
    "housing_train_labels =housing_train_labels_pandas.to_numpy()\n",
    "housing_train_labels\n",
    "# Umwandlung in numpy hätte eigentlich schon in Teil 2 des Projekts stattfinden sollen"
   ]
  },
  {
   "cell_type": "markdown",
   "metadata": {},
   "source": [
    "# Training und Bewertung von Modellen\n"
   ]
  },
  {
   "cell_type": "markdown",
   "metadata": {},
   "source": [
    "###### Schritte während des Lern-Prozesses"
   ]
  },
  {
   "cell_type": "code",
   "execution_count": 3,
   "metadata": {},
   "outputs": [
    {
     "name": "stdout",
     "output_type": "stream",
     "text": [
      "\n"
     ]
    }
   ],
   "source": [
    "\"\"\"\n",
    "0.  Algorithmus importieren und eine Instanz anlegen\n",
    "\n",
    "1.  Algorithmus trainieren.\n",
    "    Die Funktion dazu heißt immer \"fit\".\n",
    "    Während des Trainings erstellt der Algorithmus das Modell, \n",
    "    von dem er glaubt, dass es die Daten gut beschreibt.\n",
    "    \n",
    "2.  Wenn das Modell fertig ist, versucht der Mensch abzuschätzen , \n",
    "wie gut es ist\n",
    "    Für Voraussagen nutzen wir die Funktion predict , \n",
    "    die jeder Algo hat\n",
    "    \n",
    "    a) Wir machen Voraussagen auf Beispieldaten und schätzen ab, ob das echte Label getroffen wurde.\n",
    "    b) Wir berechnen eine Kennzahl für die Voraussagen .\n",
    "       Hiermit wird die Qualität von allen Voraussagen  zusammengefasst.\n",
    "       Grundlage ist die TRAININGS-MENGE\n",
    "       \n",
    "       Für die Bewertung nutzen wir Funktionen, \n",
    "           z.B. mean_absolute_error,...\n",
    "       \n",
    "3.  Kreuzvalidierung mit cross_val_score\n",
    "        Aufteilung in n Folds\n",
    "        Ergebnis: n Scores\n",
    "        Zusammenfassung der n Scores: z.B Mittelwert + Standardabweichung\n",
    "4.  GridSearch: suche die Parameter, \n",
    "        die einen guten Algorithmus noch verbessern\n",
    "        \n",
    "        berechnet den Score für jede Parameterkombination über crossval\n",
    "        Schleife: \n",
    "        pro Parameterkombination und Fold ein Training und eine Bewertung\n",
    "        \n",
    "5.  Voting (Klasse: VotingRegressor importieren und anwenden)\n",
    "\n",
    "6.  Bewertung des endgültigen Modells durch Berechnung einer Kennzahl. \n",
    "    Diesmal wird die Kennzahl auf der TEST-MENGE berechnet\n",
    "\"\"\"\n",
    "print()"
   ]
  },
  {
   "cell_type": "raw",
   "metadata": {},
   "source": [
    "## Training and Evaluation auf der Trainingsmenge"
   ]
  },
  {
   "cell_type": "markdown",
   "metadata": {},
   "source": [
    "###### 1__LinReg) Training mit LinearRegression"
   ]
  },
  {
   "cell_type": "code",
   "execution_count": 4,
   "metadata": {},
   "outputs": [
    {
     "data": {
      "text/html": [
       "<style>#sk-container-id-1 {color: black;}#sk-container-id-1 pre{padding: 0;}#sk-container-id-1 div.sk-toggleable {background-color: white;}#sk-container-id-1 label.sk-toggleable__label {cursor: pointer;display: block;width: 100%;margin-bottom: 0;padding: 0.3em;box-sizing: border-box;text-align: center;}#sk-container-id-1 label.sk-toggleable__label-arrow:before {content: \"▸\";float: left;margin-right: 0.25em;color: #696969;}#sk-container-id-1 label.sk-toggleable__label-arrow:hover:before {color: black;}#sk-container-id-1 div.sk-estimator:hover label.sk-toggleable__label-arrow:before {color: black;}#sk-container-id-1 div.sk-toggleable__content {max-height: 0;max-width: 0;overflow: hidden;text-align: left;background-color: #f0f8ff;}#sk-container-id-1 div.sk-toggleable__content pre {margin: 0.2em;color: black;border-radius: 0.25em;background-color: #f0f8ff;}#sk-container-id-1 input.sk-toggleable__control:checked~div.sk-toggleable__content {max-height: 200px;max-width: 100%;overflow: auto;}#sk-container-id-1 input.sk-toggleable__control:checked~label.sk-toggleable__label-arrow:before {content: \"▾\";}#sk-container-id-1 div.sk-estimator input.sk-toggleable__control:checked~label.sk-toggleable__label {background-color: #d4ebff;}#sk-container-id-1 div.sk-label input.sk-toggleable__control:checked~label.sk-toggleable__label {background-color: #d4ebff;}#sk-container-id-1 input.sk-hidden--visually {border: 0;clip: rect(1px 1px 1px 1px);clip: rect(1px, 1px, 1px, 1px);height: 1px;margin: -1px;overflow: hidden;padding: 0;position: absolute;width: 1px;}#sk-container-id-1 div.sk-estimator {font-family: monospace;background-color: #f0f8ff;border: 1px dotted black;border-radius: 0.25em;box-sizing: border-box;margin-bottom: 0.5em;}#sk-container-id-1 div.sk-estimator:hover {background-color: #d4ebff;}#sk-container-id-1 div.sk-parallel-item::after {content: \"\";width: 100%;border-bottom: 1px solid gray;flex-grow: 1;}#sk-container-id-1 div.sk-label:hover label.sk-toggleable__label {background-color: #d4ebff;}#sk-container-id-1 div.sk-serial::before {content: \"\";position: absolute;border-left: 1px solid gray;box-sizing: border-box;top: 0;bottom: 0;left: 50%;z-index: 0;}#sk-container-id-1 div.sk-serial {display: flex;flex-direction: column;align-items: center;background-color: white;padding-right: 0.2em;padding-left: 0.2em;position: relative;}#sk-container-id-1 div.sk-item {position: relative;z-index: 1;}#sk-container-id-1 div.sk-parallel {display: flex;align-items: stretch;justify-content: center;background-color: white;position: relative;}#sk-container-id-1 div.sk-item::before, #sk-container-id-1 div.sk-parallel-item::before {content: \"\";position: absolute;border-left: 1px solid gray;box-sizing: border-box;top: 0;bottom: 0;left: 50%;z-index: -1;}#sk-container-id-1 div.sk-parallel-item {display: flex;flex-direction: column;z-index: 1;position: relative;background-color: white;}#sk-container-id-1 div.sk-parallel-item:first-child::after {align-self: flex-end;width: 50%;}#sk-container-id-1 div.sk-parallel-item:last-child::after {align-self: flex-start;width: 50%;}#sk-container-id-1 div.sk-parallel-item:only-child::after {width: 0;}#sk-container-id-1 div.sk-dashed-wrapped {border: 1px dashed gray;margin: 0 0.4em 0.5em 0.4em;box-sizing: border-box;padding-bottom: 0.4em;background-color: white;}#sk-container-id-1 div.sk-label label {font-family: monospace;font-weight: bold;display: inline-block;line-height: 1.2em;}#sk-container-id-1 div.sk-label-container {text-align: center;}#sk-container-id-1 div.sk-container {/* jupyter's `normalize.less` sets `[hidden] { display: none; }` but bootstrap.min.css set `[hidden] { display: none !important; }` so we also need the `!important` here to be able to override the default hidden behavior on the sphinx rendered scikit-learn.org. See: https://github.com/scikit-learn/scikit-learn/issues/21755 */display: inline-block !important;position: relative;}#sk-container-id-1 div.sk-text-repr-fallback {display: none;}</style><div id=\"sk-container-id-1\" class=\"sk-top-container\"><div class=\"sk-text-repr-fallback\"><pre>LinearRegression()</pre><b>In a Jupyter environment, please rerun this cell to show the HTML representation or trust the notebook. <br />On GitHub, the HTML representation is unable to render, please try loading this page with nbviewer.org.</b></div><div class=\"sk-container\" hidden><div class=\"sk-item\"><div class=\"sk-estimator sk-toggleable\"><input class=\"sk-toggleable__control sk-hidden--visually\" id=\"sk-estimator-id-1\" type=\"checkbox\" checked><label for=\"sk-estimator-id-1\" class=\"sk-toggleable__label sk-toggleable__label-arrow\">LinearRegression</label><div class=\"sk-toggleable__content\"><pre>LinearRegression()</pre></div></div></div></div></div>"
      ],
      "text/plain": [
       "LinearRegression()"
      ]
     },
     "execution_count": 4,
     "metadata": {},
     "output_type": "execute_result"
    }
   ],
   "source": [
    "from sklearn.linear_model import LinearRegression\n",
    "\n",
    "lin_reg = LinearRegression()\n",
    "lin_reg.fit(housing_train_data, housing_train_labels)"
   ]
  },
  {
   "cell_type": "markdown",
   "metadata": {},
   "source": [
    "###### 2a-__LinReg) Stichprobe anschauen und die Leistung des Algorithmus überprüfen"
   ]
  },
  {
   "cell_type": "code",
   "execution_count": 5,
   "metadata": {},
   "outputs": [],
   "source": [
    "# Wir prüfen an 5 Original-Zeilen (den \"Beispielen\") , ob der Algorithmus imstande ist, \n",
    "# die Label einigermaßen richtig vorauszusagen.\n",
    "# Die Originalzeilen müssen mit der Pipeline vorbereitet werden"
   ]
  },
  {
   "cell_type": "code",
   "execution_count": 6,
   "metadata": {},
   "outputs": [
    {
     "data": {
      "text/plain": [
       "array([[-7.20e-02, -1.11e-01,  2.20e-01,  2.64e-01, -1.05e+00, -5.80e-04,\n",
       "         1.49e-01, -3.86e-01,  8.53e-01,  2.92e+00, -5.03e-01,  1.00e+00,\n",
       "         0.00e+00,  0.00e+00,  0.00e+00,  0.00e+00],\n",
       "       [-3.41e-01, -3.01e-01, -8.00e-01,  2.33e-01, -5.57e-01,  3.18e-02,\n",
       "        -6.14e-01,  5.99e-01, -8.65e-01,  3.40e-01, -4.74e-01,  1.00e+00,\n",
       "         0.00e+00,  0.00e+00,  0.00e+00,  0.00e+00],\n",
       "       [-6.99e-01,  7.55e-01, -6.03e-01, -3.36e-01,  3.84e-01,  1.02e-01,\n",
       "        -5.55e-01, -2.15e-01, -2.94e-02,  7.55e-02, -6.85e-02,  1.00e+00,\n",
       "         0.00e+00,  0.00e+00,  0.00e+00,  0.00e+00],\n",
       "       [ 2.01e-01,  6.16e+00, -3.18e+00, -2.76e+00, -1.75e+00, -7.34e-01,\n",
       "         2.52e+00, -1.04e-01, -7.71e-01, -3.34e-01, -6.27e-02,  0.00e+00,\n",
       "         1.00e+00,  0.00e+00,  0.00e+00,  0.00e+00],\n",
       "       [-2.38e-01,  3.59e-01, -1.08e+00, -2.36e-01,  3.52e-01,  2.10e-03,\n",
       "        -7.78e-01,  4.47e-01,  2.77e-02,  1.84e-01, -6.80e-01,  1.00e+00,\n",
       "         0.00e+00,  0.00e+00,  0.00e+00,  0.00e+00]])"
      ]
     },
     "execution_count": 6,
     "metadata": {},
     "output_type": "execute_result"
    }
   ],
   "source": [
    "#beispiele_vorbereitet=pipe.transform(beispiele_data)\n",
    "np.set_printoptions(precision=2)\n",
    "beispiele_vorbereitet = housing_train_data[:5]\n",
    "beispiele_labels = housing_train_labels[:5]\n",
    "beispiele_vorbereitet\n"
   ]
  },
  {
   "cell_type": "code",
   "execution_count": 7,
   "metadata": {},
   "outputs": [
    {
     "data": {
      "text/plain": [
       "array([153000., 236700., 143300., 310000., 169000.])"
      ]
     },
     "execution_count": 7,
     "metadata": {},
     "output_type": "execute_result"
    }
   ],
   "source": [
    "beispiele_labels"
   ]
  },
  {
   "cell_type": "code",
   "execution_count": 8,
   "metadata": {},
   "outputs": [
    {
     "data": {
      "text/plain": [
       "array([192165., 303954., 187927., -92588., 224119.])"
      ]
     },
     "execution_count": 8,
     "metadata": {},
     "output_type": "execute_result"
    }
   ],
   "source": [
    "beispiele_predictions = lin_reg.predict(beispiele_vorbereitet)\n",
    "np.set_printoptions(precision=0)\n",
    "beispiele_predictions\n",
    "#lin_reg.coef_"
   ]
  },
  {
   "cell_type": "code",
   "execution_count": 9,
   "metadata": {},
   "outputs": [
    {
     "data": {
      "text/plain": [
       "array([ 12594., -35978.,  -4503.,  20080.,  14359.,   3013., -10570.,\n",
       "        23508., -63429.,  16752.,   5507., -39424., -76884., 195009.,\n",
       "       -43010., -35691.])"
      ]
     },
     "execution_count": 9,
     "metadata": {},
     "output_type": "execute_result"
    }
   ],
   "source": [
    "lin_reg.coef_"
   ]
  },
  {
   "cell_type": "code",
   "execution_count": 8,
   "metadata": {},
   "outputs": [],
   "source": [
    "# Vergleichen mit den echten Werten"
   ]
  },
  {
   "cell_type": "code",
   "execution_count": 11,
   "metadata": {},
   "outputs": [
    {
     "data": {
      "text/plain": [
       "array([153000., 236700., 143300., 310000., 169000.])"
      ]
     },
     "execution_count": 11,
     "metadata": {},
     "output_type": "execute_result"
    }
   ],
   "source": [
    "beispiele_labels"
   ]
  },
  {
   "cell_type": "code",
   "execution_count": 12,
   "metadata": {},
   "outputs": [
    {
     "name": "stdout",
     "output_type": "stream",
     "text": [
      "25.6%, 28.4%, 31.1%, -129.9%, 32.6%\n"
     ]
    }
   ],
   "source": [
    "#Wie gut sind die Voraussagen?\n",
    "#Als Antwort berechnen wir den prozentualen Fehler für jeden einzelnen Datensatz.\n",
    "prozentuale_abweichungen = beispiele_predictions / beispiele_labels - 1\n",
    "print(\", \".join([f\"{100 * ratio:.1f}%\" for ratio in prozentuale_abweichungen]))"
   ]
  },
  {
   "cell_type": "markdown",
   "metadata": {},
   "source": [
    "######  2b__LinReg) Bewertung anhand von Kennzahlen, die aus dem gesamten Trainingsergebnis abgeleitet werden"
   ]
  },
  {
   "cell_type": "code",
   "execution_count": 18,
   "metadata": {},
   "outputs": [
    {
     "data": {
      "text/plain": [
       "array([153000., 236700., 143300., 310000., 169000.])"
      ]
     },
     "execution_count": 18,
     "metadata": {},
     "output_type": "execute_result"
    }
   ],
   "source": [
    "housing_predictions_lin = lin_reg.predict(housing_train_data)\n",
    "housing_predictions_lin[:5]\n",
    "housing_train_labels[:5]"
   ]
  },
  {
   "cell_type": "code",
   "execution_count": 19,
   "metadata": {},
   "outputs": [
    {
     "name": "stdout",
     "output_type": "stream",
     "text": [
      "Durchschnittliche Abweichung zwischen echt und vorausgesagt(MAE): 49369 $\n"
     ]
    }
   ],
   "source": [
    "from sklearn.metrics import mean_absolute_error\n",
    "\n",
    "lin_mae = mean_absolute_error(housing_train_labels, housing_predictions_lin )\n",
    "print(\"Durchschnittliche Abweichung zwischen echt und vorausgesagt(MAE):\", round(lin_mae),\"$\")"
   ]
  },
  {
   "cell_type": "code",
   "execution_count": 20,
   "metadata": {},
   "outputs": [
    {
     "name": "stdout",
     "output_type": "stream",
     "text": [
      "Durchschnittliche Abweichung zwischen echt und vorausgesagt(RMSE): 67827 $\n"
     ]
    }
   ],
   "source": [
    "from sklearn.metrics import mean_squared_error\n",
    "\n",
    "lin_rmse = mean_squared_error(housing_train_labels, housing_predictions_lin, squared=False)\n",
    "print(\"Durchschnittliche Abweichung zwischen echt und vorausgesagt(RMSE):\", round(lin_rmse),\"$\")"
   ]
  },
  {
   "cell_type": "code",
   "execution_count": 21,
   "metadata": {},
   "outputs": [
    {
     "name": "stdout",
     "output_type": "stream",
     "text": [
      "Prozentualer Fehler 29.0 %\n"
     ]
    }
   ],
   "source": [
    "from sklearn.metrics import mean_absolute_percentage_error\n",
    "lin_mape = mean_absolute_percentage_error(\n",
    "                housing_train_labels, \n",
    "                housing_predictions_lin)\n",
    "print(\"Prozentualer Fehler\",np.round(lin_mape *100),\"%\")"
   ]
  },
  {
   "cell_type": "code",
   "execution_count": 15,
   "metadata": {},
   "outputs": [],
   "source": [
    "# Wir probieren den nächsten Algorithmus"
   ]
  },
  {
   "cell_type": "markdown",
   "metadata": {},
   "source": [
    "###### 1__Tree) Training mit DecisionTree"
   ]
  },
  {
   "cell_type": "code",
   "execution_count": 22,
   "metadata": {},
   "outputs": [
    {
     "data": {
      "text/html": [
       "<style>#sk-container-id-3 {color: black;}#sk-container-id-3 pre{padding: 0;}#sk-container-id-3 div.sk-toggleable {background-color: white;}#sk-container-id-3 label.sk-toggleable__label {cursor: pointer;display: block;width: 100%;margin-bottom: 0;padding: 0.3em;box-sizing: border-box;text-align: center;}#sk-container-id-3 label.sk-toggleable__label-arrow:before {content: \"▸\";float: left;margin-right: 0.25em;color: #696969;}#sk-container-id-3 label.sk-toggleable__label-arrow:hover:before {color: black;}#sk-container-id-3 div.sk-estimator:hover label.sk-toggleable__label-arrow:before {color: black;}#sk-container-id-3 div.sk-toggleable__content {max-height: 0;max-width: 0;overflow: hidden;text-align: left;background-color: #f0f8ff;}#sk-container-id-3 div.sk-toggleable__content pre {margin: 0.2em;color: black;border-radius: 0.25em;background-color: #f0f8ff;}#sk-container-id-3 input.sk-toggleable__control:checked~div.sk-toggleable__content {max-height: 200px;max-width: 100%;overflow: auto;}#sk-container-id-3 input.sk-toggleable__control:checked~label.sk-toggleable__label-arrow:before {content: \"▾\";}#sk-container-id-3 div.sk-estimator input.sk-toggleable__control:checked~label.sk-toggleable__label {background-color: #d4ebff;}#sk-container-id-3 div.sk-label input.sk-toggleable__control:checked~label.sk-toggleable__label {background-color: #d4ebff;}#sk-container-id-3 input.sk-hidden--visually {border: 0;clip: rect(1px 1px 1px 1px);clip: rect(1px, 1px, 1px, 1px);height: 1px;margin: -1px;overflow: hidden;padding: 0;position: absolute;width: 1px;}#sk-container-id-3 div.sk-estimator {font-family: monospace;background-color: #f0f8ff;border: 1px dotted black;border-radius: 0.25em;box-sizing: border-box;margin-bottom: 0.5em;}#sk-container-id-3 div.sk-estimator:hover {background-color: #d4ebff;}#sk-container-id-3 div.sk-parallel-item::after {content: \"\";width: 100%;border-bottom: 1px solid gray;flex-grow: 1;}#sk-container-id-3 div.sk-label:hover label.sk-toggleable__label {background-color: #d4ebff;}#sk-container-id-3 div.sk-serial::before {content: \"\";position: absolute;border-left: 1px solid gray;box-sizing: border-box;top: 0;bottom: 0;left: 50%;z-index: 0;}#sk-container-id-3 div.sk-serial {display: flex;flex-direction: column;align-items: center;background-color: white;padding-right: 0.2em;padding-left: 0.2em;position: relative;}#sk-container-id-3 div.sk-item {position: relative;z-index: 1;}#sk-container-id-3 div.sk-parallel {display: flex;align-items: stretch;justify-content: center;background-color: white;position: relative;}#sk-container-id-3 div.sk-item::before, #sk-container-id-3 div.sk-parallel-item::before {content: \"\";position: absolute;border-left: 1px solid gray;box-sizing: border-box;top: 0;bottom: 0;left: 50%;z-index: -1;}#sk-container-id-3 div.sk-parallel-item {display: flex;flex-direction: column;z-index: 1;position: relative;background-color: white;}#sk-container-id-3 div.sk-parallel-item:first-child::after {align-self: flex-end;width: 50%;}#sk-container-id-3 div.sk-parallel-item:last-child::after {align-self: flex-start;width: 50%;}#sk-container-id-3 div.sk-parallel-item:only-child::after {width: 0;}#sk-container-id-3 div.sk-dashed-wrapped {border: 1px dashed gray;margin: 0 0.4em 0.5em 0.4em;box-sizing: border-box;padding-bottom: 0.4em;background-color: white;}#sk-container-id-3 div.sk-label label {font-family: monospace;font-weight: bold;display: inline-block;line-height: 1.2em;}#sk-container-id-3 div.sk-label-container {text-align: center;}#sk-container-id-3 div.sk-container {/* jupyter's `normalize.less` sets `[hidden] { display: none; }` but bootstrap.min.css set `[hidden] { display: none !important; }` so we also need the `!important` here to be able to override the default hidden behavior on the sphinx rendered scikit-learn.org. See: https://github.com/scikit-learn/scikit-learn/issues/21755 */display: inline-block !important;position: relative;}#sk-container-id-3 div.sk-text-repr-fallback {display: none;}</style><div id=\"sk-container-id-3\" class=\"sk-top-container\"><div class=\"sk-text-repr-fallback\"><pre>DecisionTreeRegressor(random_state=42)</pre><b>In a Jupyter environment, please rerun this cell to show the HTML representation or trust the notebook. <br />On GitHub, the HTML representation is unable to render, please try loading this page with nbviewer.org.</b></div><div class=\"sk-container\" hidden><div class=\"sk-item\"><div class=\"sk-estimator sk-toggleable\"><input class=\"sk-toggleable__control sk-hidden--visually\" id=\"sk-estimator-id-3\" type=\"checkbox\" checked><label for=\"sk-estimator-id-3\" class=\"sk-toggleable__label sk-toggleable__label-arrow\">DecisionTreeRegressor</label><div class=\"sk-toggleable__content\"><pre>DecisionTreeRegressor(random_state=42)</pre></div></div></div></div></div>"
      ],
      "text/plain": [
       "DecisionTreeRegressor(random_state=42)"
      ]
     },
     "execution_count": 22,
     "metadata": {},
     "output_type": "execute_result"
    }
   ],
   "source": [
    "from sklearn.tree import DecisionTreeRegressor\n",
    "\n",
    "tree_reg = DecisionTreeRegressor(random_state=42)\n",
    "tree_reg.fit(housing_train_data, housing_train_labels)"
   ]
  },
  {
   "cell_type": "markdown",
   "metadata": {},
   "source": [
    "######  2b__Tre)  Bewertung anhand von Kennzahlen, die aus dem gesamten Trainingsergebnis abgeleitet werden"
   ]
  },
  {
   "cell_type": "code",
   "execution_count": 23,
   "metadata": {},
   "outputs": [
    {
     "data": {
      "text/plain": [
       "array([153000., 236700., 143300., 310000., 169000., 112500.])"
      ]
     },
     "execution_count": 23,
     "metadata": {},
     "output_type": "execute_result"
    }
   ],
   "source": [
    "housing_predictions_tree = tree_reg.predict(housing_train_data)\n",
    "housing_predictions_tree[:6]"
   ]
  },
  {
   "cell_type": "code",
   "execution_count": 24,
   "metadata": {},
   "outputs": [
    {
     "data": {
      "text/plain": [
       "0.0"
      ]
     },
     "execution_count": 24,
     "metadata": {},
     "output_type": "execute_result"
    }
   ],
   "source": [
    "\n",
    "tree_mae = mean_absolute_error(housing_train_labels, housing_predictions_tree)\n",
    "tree_mae"
   ]
  },
  {
   "cell_type": "code",
   "execution_count": 25,
   "metadata": {},
   "outputs": [
    {
     "data": {
      "text/plain": [
       "0.0"
      ]
     },
     "execution_count": 25,
     "metadata": {},
     "output_type": "execute_result"
    }
   ],
   "source": [
    "housing_predictions = tree_reg.predict(housing_train_data)\n",
    "tree_rmse = mean_squared_error(housing_train_labels, housing_predictions, squared=False)\n",
    "tree_rmse"
   ]
  },
  {
   "cell_type": "code",
   "execution_count": 20,
   "metadata": {},
   "outputs": [],
   "source": [
    "# Haben wir nun den perfekten Algorithmus gefunden ???"
   ]
  },
  {
   "cell_type": "markdown",
   "metadata": {},
   "source": [
    "## 3. Bessere Bewertungsgrundlage: Cross-Validation (Kreuz-Evaluation)"
   ]
  },
  {
   "cell_type": "code",
   "execution_count": 21,
   "metadata": {},
   "outputs": [],
   "source": [
    "# Der Trainingsscore  des DecisionTrees ist deutlich besser als der Crossvalscore.\n",
    "# Das nennt man OVERFITTING .\n",
    "# Das muss geändert werden, ehe man dem Score vertraut. \n",
    "# Wenn das nicht zu ändern ist, taugt der Algorithmus nichts für diese Daten."
   ]
  },
  {
   "cell_type": "code",
   "execution_count": 26,
   "metadata": {},
   "outputs": [],
   "source": [
    "from sklearn.model_selection import cross_val_score,cross_validate"
   ]
  },
  {
   "cell_type": "markdown",
   "metadata": {},
   "source": [
    "### 3 Scoring-Verfahren für den DecisionTree"
   ]
  },
  {
   "cell_type": "markdown",
   "metadata": {},
   "source": [
    "#### DecisionTree ________Scoring-Verfahren : root mean squared error"
   ]
  },
  {
   "cell_type": "code",
   "execution_count": 27,
   "metadata": {},
   "outputs": [
    {
     "name": "stdout",
     "output_type": "stream",
     "text": [
      "Evaluierungs-Scores DecisionTree, Verfahren RMSE\n"
     ]
    },
    {
     "data": {
      "text/plain": [
       "array([80260., 77447., 79196., 78331., 79101., 78090., 78814., 80230.,\n",
       "       79826., 76461.])"
      ]
     },
     "execution_count": 27,
     "metadata": {},
     "output_type": "execute_result"
    }
   ],
   "source": [
    "tree_rmses = -cross_val_score(tree_reg, housing_train_data, housing_train_labels,\n",
    "                              scoring=\"neg_root_mean_squared_error\", cv=10)\n",
    "print(\"Evaluierungs-Scores DecisionTree, Verfahren RMSE\")\n",
    "tree_rmses\n",
    "#crossval_score(instanz_des_algorithmus, \n",
    "#               trainingsdaten,trainingslabel, \n",
    "#               scoring=Bewertungsmaßstab,\n",
    "#               cv = Anzahl_der_folds)"
   ]
  },
  {
   "cell_type": "code",
   "execution_count": 28,
   "metadata": {},
   "outputs": [
    {
     "name": "stdout",
     "output_type": "stream",
     "text": [
      "Mittelwert aller Teil-RMSE-Scores (DecisionTree): 78776 _____ Standardabweichung: 1162\n"
     ]
    }
   ],
   "source": [
    "print(\"Mittelwert aller Teil-RMSE-Scores (DecisionTree):\",round(tree_rmses.mean()),\n",
    "      \"_____ Standardabweichung:\",round(tree_rmses.std()))\n",
    "#pd.DataFrame(tree_rmses).describe()"
   ]
  },
  {
   "cell_type": "markdown",
   "metadata": {},
   "source": [
    "#### DecisionTree__________Scoring-Verfahren :Mean absolute Error"
   ]
  },
  {
   "cell_type": "code",
   "execution_count": 29,
   "metadata": {},
   "outputs": [
    {
     "data": {
      "text/plain": [
       "array([53898., 52577., 53089., 51629., 53072., 52008., 52309., 52988.,\n",
       "       52676., 51953.])"
      ]
     },
     "execution_count": 29,
     "metadata": {},
     "output_type": "execute_result"
    }
   ],
   "source": [
    "tree_maes = -cross_val_score(tree_reg, housing_train_data, housing_train_labels,\n",
    "                              scoring=\"neg_mean_absolute_error\", cv=10)\n",
    "tree_maes"
   ]
  },
  {
   "cell_type": "code",
   "execution_count": 30,
   "metadata": {},
   "outputs": [
    {
     "name": "stdout",
     "output_type": "stream",
     "text": [
      "Mittelwert aller Teil-MAE-Scores (DecisionTree): 52620 $_____ Standardabweichung der Fehler: 640 $\n"
     ]
    }
   ],
   "source": [
    "print(\"Mittelwert aller Teil-MAE-Scores (DecisionTree):\",round(tree_maes.mean()),\n",
    "      \"$_____ Standardabweichung der Fehler:\",round(tree_maes.std()),\"$\")\n",
    "#pd.DataFrame(tree_rmses).describe()"
   ]
  },
  {
   "cell_type": "markdown",
   "metadata": {},
   "source": [
    "#### DecisionTree_________Scoring-Verfahren: Mean absolute percentage error"
   ]
  },
  {
   "cell_type": "code",
   "execution_count": 31,
   "metadata": {},
   "outputs": [
    {
     "data": {
      "text/plain": [
       "array([29., 30., 29., 28., 29., 27., 28., 29., 29., 29.])"
      ]
     },
     "execution_count": 31,
     "metadata": {},
     "output_type": "execute_result"
    }
   ],
   "source": [
    "tree_mapes = -cross_val_score(tree_reg, housing_train_data, housing_train_labels,\n",
    "                              scoring=\"neg_mean_absolute_percentage_error\", cv=10)\n",
    "np.round(tree_mapes *100)"
   ]
  },
  {
   "cell_type": "code",
   "execution_count": 34,
   "metadata": {},
   "outputs": [
    {
     "name": "stdout",
     "output_type": "stream",
     "text": [
      "Mittelwert aller Teil-MAPE-Scores (DecisionTree): 29 %_____ Standardabweichung der Fehler: 0.73 %\n"
     ]
    }
   ],
   "source": [
    "print(\"Mittelwert aller Teil-MAPE-Scores (DecisionTree):\",round(tree_mapes.mean()*100),\n",
    "      \"%_____ Standardabweichung der Fehler:\",round(tree_mapes.std()*100,2),\"%\")\n",
    "#pd.DataFrame(tree_rmses).describe()"
   ]
  },
  {
   "cell_type": "code",
   "execution_count": null,
   "metadata": {},
   "outputs": [],
   "source": []
  },
  {
   "cell_type": "markdown",
   "metadata": {},
   "source": [
    "### Zum Vergleich: Die Scores der linearen Regression"
   ]
  },
  {
   "cell_type": "markdown",
   "metadata": {},
   "source": [
    "##### Lineare Regression____ Scoring"
   ]
  },
  {
   "cell_type": "code",
   "execution_count": 39,
   "metadata": {},
   "outputs": [
    {
     "name": "stdout",
     "output_type": "stream",
     "text": [
      "Mittelwert aller Teil-MAPE-Scores  (LineareRegression): 29 %_____ Standardabweichung: 1.02 %\n"
     ]
    }
   ],
   "source": [
    "lin_mape_cv = -cross_val_score(lin_reg, housing_train_data, housing_train_labels,\n",
    "                              scoring=\"neg_mean_absolute_percentage_error\", cv=10)\n",
    "print(\"Mittelwert aller Teil-MAPE-Scores  (LineareRegression):\",round(lin_mape_cv.mean()*100),\n",
    "      \"%_____ Standardabweichung:\",round(lin_mape_cv.std()*100,2),\"%\")"
   ]
  },
  {
   "cell_type": "code",
   "execution_count": 40,
   "metadata": {},
   "outputs": [
    {
     "name": "stdout",
     "output_type": "stream",
     "text": [
      "Mittelwert aller Teil-RMSE-Scores  (LineareRegression): 68675 $ _____ Standardabweichung: 3092 $\n"
     ]
    }
   ],
   "source": [
    "lin_rmses = -cross_val_score(lin_reg, housing_train_data, housing_train_labels,\n",
    "                              scoring=\"neg_root_mean_squared_error\", cv=10)\n",
    "print(f\"Mittelwert aller Teil-RMSE-Scores  (LineareRegression): {round(lin_rmses.mean())} $\",\n",
    "      f\"_____ Standardabweichung: {round(lin_rmses.std())} $\")\n",
    "#pd.Series(lin_rmses).describe()\n"
   ]
  },
  {
   "cell_type": "code",
   "execution_count": 34,
   "metadata": {},
   "outputs": [],
   "source": [
    "# Der Trainingsscore der Linearen Regression stimmt zwar ungefähr mit der Crossval-Score über ein.\n",
    "# Aber der Trainings-Score ist schlecht.\n",
    "# Das nennt man UNDER-FITTING.\n",
    "# Wir vertrauen diesem Algorithmus ebenfalls nicht."
   ]
  },
  {
   "cell_type": "markdown",
   "metadata": {},
   "source": [
    "### Nächster Versuch: Wir trainieren und evaluieren den Algorithmus RandomForest.\n",
    "**Warning:** the following cell may take a few minutes to run:"
   ]
  },
  {
   "cell_type": "code",
   "execution_count": 41,
   "metadata": {},
   "outputs": [],
   "source": [
    "from sklearn.model_selection import cross_val_score\n",
    "from sklearn.ensemble import RandomForestRegressor\n",
    "\n",
    "forest_reg = RandomForestRegressor(random_state=42, n_jobs = -1)\n",
    "forest_rmses = -cross_val_score(forest_reg, housing_train_data, housing_train_labels,\n",
    "                                scoring=\"neg_root_mean_squared_error\", cv=5)"
   ]
  },
  {
   "cell_type": "code",
   "execution_count": 42,
   "metadata": {},
   "outputs": [
    {
     "name": "stdout",
     "output_type": "stream",
     "text": [
      "Durchschnitt der CV-Scores(RMSE): 55788 $ _____ Standardabweichung: 1069 $\n"
     ]
    }
   ],
   "source": [
    "print(f\"Durchschnitt der CV-Scores(RMSE): {round(forest_rmses.mean())} $\", \n",
    "      f\"_____ Standardabweichung: {round(forest_rmses.std())} $\")\n",
    "#pd.Series(forest_rmses).describe()"
   ]
  },
  {
   "cell_type": "code",
   "execution_count": 43,
   "metadata": {},
   "outputs": [
    {
     "data": {
      "text/plain": [
       "array([22., 21., 21., 21., 21.])"
      ]
     },
     "execution_count": 43,
     "metadata": {},
     "output_type": "execute_result"
    }
   ],
   "source": [
    "forest_mapes = -cross_val_score(forest_reg, housing_train_data, housing_train_labels,\n",
    "                                scoring=\"neg_mean_absolute_percentage_error\", cv=5)\n",
    "forest_mapes *100"
   ]
  },
  {
   "cell_type": "code",
   "execution_count": 44,
   "metadata": {},
   "outputs": [
    {
     "name": "stdout",
     "output_type": "stream",
     "text": [
      "Durchschnitt der CV-Scores(MAPE): 21 % _____ Standardabweichung: 1 %\n"
     ]
    }
   ],
   "source": [
    "print(f\"Durchschnitt der CV-Scores(MAPE): {round(forest_mapes.mean()*100)} %\",\n",
    "      f\"_____ Standardabweichung: {round(forest_mapes.std()*100)} %\")\n",
    "#(pd.Series(forest_mapes)*100).describe()"
   ]
  },
  {
   "cell_type": "code",
   "execution_count": 39,
   "metadata": {},
   "outputs": [],
   "source": [
    "# Dieser Algorithmus liefert schon bessere Werte.\n",
    "# Wir versuchen demnächst, die Bewertung weiter zu verbessern, indem wir nicht mehr mit den Default-Parametern arbeiten.\n",
    "# Wir wollen die besten Varianten für die Parameter herausfinden."
   ]
  },
  {
   "cell_type": "markdown",
   "metadata": {},
   "source": [
    "### Nächster Versuch: Wir trainieren und evaluieren den Algorithmus \"Support Vector Machine\"."
   ]
  },
  {
   "cell_type": "markdown",
   "metadata": {},
   "source": [
    "Warnung: die Programmausführung dauert ziemlich lang."
   ]
  },
  {
   "cell_type": "code",
   "execution_count": 40,
   "metadata": {},
   "outputs": [
    {
     "name": "stdout",
     "output_type": "stream",
     "text": [
      "\n"
     ]
    }
   ],
   "source": [
    "\"\"\"\n",
    "from sklearn.model_selection import cross_val_score\n",
    "from sklearn.metrics import mean_squared_error\n",
    "from sklearn.svm import SVR\n",
    "\n",
    "svr = SVR()\n",
    "svr.fit(housing_train_data, housing_train_labels)\n",
    "svr_train_predictions = svr.predict(housing_train_data)\n",
    "print(round(\n",
    "    mean_squared_error(\n",
    "        housing_train_labels,svr_train_predictions,squared=False)))\n",
    "\n",
    "#svr_rmses = -cross_val_score(svr, housing_train_data, housing_train_labels,\n",
    "#                               scoring=\"neg_root_mean_squared_error\", cv=5)\n",
    "# Ergebnis rmse =111_000 $\n",
    "\"\"\"\n",
    "print()"
   ]
  },
  {
   "cell_type": "markdown",
   "metadata": {},
   "source": [
    "# Fine-Tuning: Die Modellparameter werden optimiert"
   ]
  },
  {
   "cell_type": "markdown",
   "metadata": {},
   "source": [
    "## Grid Search mit RMSE"
   ]
  },
  {
   "cell_type": "markdown",
   "metadata": {},
   "source": [
    "Warnung: die Programmausführung  eines Gridsearch dauert sehr lang."
   ]
  },
  {
   "cell_type": "code",
   "execution_count": 45,
   "metadata": {},
   "outputs": [
    {
     "data": {
      "text/html": [
       "<style>#sk-container-id-4 {color: black;}#sk-container-id-4 pre{padding: 0;}#sk-container-id-4 div.sk-toggleable {background-color: white;}#sk-container-id-4 label.sk-toggleable__label {cursor: pointer;display: block;width: 100%;margin-bottom: 0;padding: 0.3em;box-sizing: border-box;text-align: center;}#sk-container-id-4 label.sk-toggleable__label-arrow:before {content: \"▸\";float: left;margin-right: 0.25em;color: #696969;}#sk-container-id-4 label.sk-toggleable__label-arrow:hover:before {color: black;}#sk-container-id-4 div.sk-estimator:hover label.sk-toggleable__label-arrow:before {color: black;}#sk-container-id-4 div.sk-toggleable__content {max-height: 0;max-width: 0;overflow: hidden;text-align: left;background-color: #f0f8ff;}#sk-container-id-4 div.sk-toggleable__content pre {margin: 0.2em;color: black;border-radius: 0.25em;background-color: #f0f8ff;}#sk-container-id-4 input.sk-toggleable__control:checked~div.sk-toggleable__content {max-height: 200px;max-width: 100%;overflow: auto;}#sk-container-id-4 input.sk-toggleable__control:checked~label.sk-toggleable__label-arrow:before {content: \"▾\";}#sk-container-id-4 div.sk-estimator input.sk-toggleable__control:checked~label.sk-toggleable__label {background-color: #d4ebff;}#sk-container-id-4 div.sk-label input.sk-toggleable__control:checked~label.sk-toggleable__label {background-color: #d4ebff;}#sk-container-id-4 input.sk-hidden--visually {border: 0;clip: rect(1px 1px 1px 1px);clip: rect(1px, 1px, 1px, 1px);height: 1px;margin: -1px;overflow: hidden;padding: 0;position: absolute;width: 1px;}#sk-container-id-4 div.sk-estimator {font-family: monospace;background-color: #f0f8ff;border: 1px dotted black;border-radius: 0.25em;box-sizing: border-box;margin-bottom: 0.5em;}#sk-container-id-4 div.sk-estimator:hover {background-color: #d4ebff;}#sk-container-id-4 div.sk-parallel-item::after {content: \"\";width: 100%;border-bottom: 1px solid gray;flex-grow: 1;}#sk-container-id-4 div.sk-label:hover label.sk-toggleable__label {background-color: #d4ebff;}#sk-container-id-4 div.sk-serial::before {content: \"\";position: absolute;border-left: 1px solid gray;box-sizing: border-box;top: 0;bottom: 0;left: 50%;z-index: 0;}#sk-container-id-4 div.sk-serial {display: flex;flex-direction: column;align-items: center;background-color: white;padding-right: 0.2em;padding-left: 0.2em;position: relative;}#sk-container-id-4 div.sk-item {position: relative;z-index: 1;}#sk-container-id-4 div.sk-parallel {display: flex;align-items: stretch;justify-content: center;background-color: white;position: relative;}#sk-container-id-4 div.sk-item::before, #sk-container-id-4 div.sk-parallel-item::before {content: \"\";position: absolute;border-left: 1px solid gray;box-sizing: border-box;top: 0;bottom: 0;left: 50%;z-index: -1;}#sk-container-id-4 div.sk-parallel-item {display: flex;flex-direction: column;z-index: 1;position: relative;background-color: white;}#sk-container-id-4 div.sk-parallel-item:first-child::after {align-self: flex-end;width: 50%;}#sk-container-id-4 div.sk-parallel-item:last-child::after {align-self: flex-start;width: 50%;}#sk-container-id-4 div.sk-parallel-item:only-child::after {width: 0;}#sk-container-id-4 div.sk-dashed-wrapped {border: 1px dashed gray;margin: 0 0.4em 0.5em 0.4em;box-sizing: border-box;padding-bottom: 0.4em;background-color: white;}#sk-container-id-4 div.sk-label label {font-family: monospace;font-weight: bold;display: inline-block;line-height: 1.2em;}#sk-container-id-4 div.sk-label-container {text-align: center;}#sk-container-id-4 div.sk-container {/* jupyter's `normalize.less` sets `[hidden] { display: none; }` but bootstrap.min.css set `[hidden] { display: none !important; }` so we also need the `!important` here to be able to override the default hidden behavior on the sphinx rendered scikit-learn.org. See: https://github.com/scikit-learn/scikit-learn/issues/21755 */display: inline-block !important;position: relative;}#sk-container-id-4 div.sk-text-repr-fallback {display: none;}</style><div id=\"sk-container-id-4\" class=\"sk-top-container\"><div class=\"sk-text-repr-fallback\"><pre>GridSearchCV(cv=3, estimator=RandomForestRegressor(random_state=42), n_jobs=-1,\n",
       "             param_grid=[{&#x27;max_features&#x27;: [2, 4, 6, 8],\n",
       "                          &#x27;n_estimators&#x27;: [3, 10, 30]}],\n",
       "             scoring=&#x27;neg_root_mean_squared_error&#x27;)</pre><b>In a Jupyter environment, please rerun this cell to show the HTML representation or trust the notebook. <br />On GitHub, the HTML representation is unable to render, please try loading this page with nbviewer.org.</b></div><div class=\"sk-container\" hidden><div class=\"sk-item sk-dashed-wrapped\"><div class=\"sk-label-container\"><div class=\"sk-label sk-toggleable\"><input class=\"sk-toggleable__control sk-hidden--visually\" id=\"sk-estimator-id-4\" type=\"checkbox\" ><label for=\"sk-estimator-id-4\" class=\"sk-toggleable__label sk-toggleable__label-arrow\">GridSearchCV</label><div class=\"sk-toggleable__content\"><pre>GridSearchCV(cv=3, estimator=RandomForestRegressor(random_state=42), n_jobs=-1,\n",
       "             param_grid=[{&#x27;max_features&#x27;: [2, 4, 6, 8],\n",
       "                          &#x27;n_estimators&#x27;: [3, 10, 30]}],\n",
       "             scoring=&#x27;neg_root_mean_squared_error&#x27;)</pre></div></div></div><div class=\"sk-parallel\"><div class=\"sk-parallel-item\"><div class=\"sk-item\"><div class=\"sk-label-container\"><div class=\"sk-label sk-toggleable\"><input class=\"sk-toggleable__control sk-hidden--visually\" id=\"sk-estimator-id-5\" type=\"checkbox\" ><label for=\"sk-estimator-id-5\" class=\"sk-toggleable__label sk-toggleable__label-arrow\">estimator: RandomForestRegressor</label><div class=\"sk-toggleable__content\"><pre>RandomForestRegressor(random_state=42)</pre></div></div></div><div class=\"sk-serial\"><div class=\"sk-item\"><div class=\"sk-estimator sk-toggleable\"><input class=\"sk-toggleable__control sk-hidden--visually\" id=\"sk-estimator-id-6\" type=\"checkbox\" ><label for=\"sk-estimator-id-6\" class=\"sk-toggleable__label sk-toggleable__label-arrow\">RandomForestRegressor</label><div class=\"sk-toggleable__content\"><pre>RandomForestRegressor(random_state=42)</pre></div></div></div></div></div></div></div></div></div></div>"
      ],
      "text/plain": [
       "GridSearchCV(cv=3, estimator=RandomForestRegressor(random_state=42), n_jobs=-1,\n",
       "             param_grid=[{'max_features': [2, 4, 6, 8],\n",
       "                          'n_estimators': [3, 10, 30]}],\n",
       "             scoring='neg_root_mean_squared_error')"
      ]
     },
     "execution_count": 45,
     "metadata": {},
     "output_type": "execute_result"
    }
   ],
   "source": [
    "\n",
    "from sklearn.model_selection import GridSearchCV\n",
    "from sklearn.ensemble import RandomForestRegressor\n",
    "\n",
    "param_grid = [\n",
    "    { 'max_features': [2,4,6,8],\n",
    "      'n_estimators': [3,10,30]}# oder ...[10,100,1000,10000]\n",
    "#,\n",
    "#    {'bootstrap': [False],\n",
    "#     'max_features': [2, 3,4],\n",
    "#     'n_estimators': [3, 10]}\n",
    "]\n",
    "#param_grid enthält eine Dictionary, das ausgewählte Parameter von der Klasse RandomForest zeigt.\n",
    "# Diese Parameter heißen HYPER-PARAMETER\n",
    "# Die Listen, die hinter den Parametern stehen , enthalten mögliche Werte der Parameter.\n",
    "\n",
    "grid_search = GridSearchCV(RandomForestRegressor(random_state=42), \n",
    "                           param_grid, \n",
    "                           cv=3,\n",
    "                           scoring='neg_root_mean_squared_error',\n",
    "                           n_jobs = -1)\n",
    "grid_search.fit(housing_train_data, housing_train_labels)\n",
    "# Das grid_search-Objekt führt ein fit für jede Parameter-kombination aus und macht auch eine Kreuz-Evaluierung(Crossval)"
   ]
  },
  {
   "cell_type": "code",
   "execution_count": 42,
   "metadata": {},
   "outputs": [],
   "source": [
    "# Anmerkung:\n",
    "# Man kann auch einen Gridsearch über alle Parameter einer Pipeline machen.\n",
    "# Die Liste der Parameter kann man herausfinden mit :`full_pipeline.get_params().keys()`"
   ]
  },
  {
   "cell_type": "code",
   "execution_count": 46,
   "metadata": {},
   "outputs": [
    {
     "data": {
      "text/plain": [
       "{'max_features': 8, 'n_estimators': 30}"
      ]
     },
     "execution_count": 46,
     "metadata": {},
     "output_type": "execute_result"
    }
   ],
   "source": [
    "# Die grid_search-Instanz findet die besten Parameter\n",
    "grid_search.best_params_\n",
    "# Anmerkung : der Score wird hier sehr schlecht, weil die Parameter im Gridsearch ungünstig gewählt waren."
   ]
  },
  {
   "cell_type": "code",
   "execution_count": 47,
   "metadata": {},
   "outputs": [
    {
     "data": {
      "text/html": [
       "<style>#sk-container-id-5 {color: black;}#sk-container-id-5 pre{padding: 0;}#sk-container-id-5 div.sk-toggleable {background-color: white;}#sk-container-id-5 label.sk-toggleable__label {cursor: pointer;display: block;width: 100%;margin-bottom: 0;padding: 0.3em;box-sizing: border-box;text-align: center;}#sk-container-id-5 label.sk-toggleable__label-arrow:before {content: \"▸\";float: left;margin-right: 0.25em;color: #696969;}#sk-container-id-5 label.sk-toggleable__label-arrow:hover:before {color: black;}#sk-container-id-5 div.sk-estimator:hover label.sk-toggleable__label-arrow:before {color: black;}#sk-container-id-5 div.sk-toggleable__content {max-height: 0;max-width: 0;overflow: hidden;text-align: left;background-color: #f0f8ff;}#sk-container-id-5 div.sk-toggleable__content pre {margin: 0.2em;color: black;border-radius: 0.25em;background-color: #f0f8ff;}#sk-container-id-5 input.sk-toggleable__control:checked~div.sk-toggleable__content {max-height: 200px;max-width: 100%;overflow: auto;}#sk-container-id-5 input.sk-toggleable__control:checked~label.sk-toggleable__label-arrow:before {content: \"▾\";}#sk-container-id-5 div.sk-estimator input.sk-toggleable__control:checked~label.sk-toggleable__label {background-color: #d4ebff;}#sk-container-id-5 div.sk-label input.sk-toggleable__control:checked~label.sk-toggleable__label {background-color: #d4ebff;}#sk-container-id-5 input.sk-hidden--visually {border: 0;clip: rect(1px 1px 1px 1px);clip: rect(1px, 1px, 1px, 1px);height: 1px;margin: -1px;overflow: hidden;padding: 0;position: absolute;width: 1px;}#sk-container-id-5 div.sk-estimator {font-family: monospace;background-color: #f0f8ff;border: 1px dotted black;border-radius: 0.25em;box-sizing: border-box;margin-bottom: 0.5em;}#sk-container-id-5 div.sk-estimator:hover {background-color: #d4ebff;}#sk-container-id-5 div.sk-parallel-item::after {content: \"\";width: 100%;border-bottom: 1px solid gray;flex-grow: 1;}#sk-container-id-5 div.sk-label:hover label.sk-toggleable__label {background-color: #d4ebff;}#sk-container-id-5 div.sk-serial::before {content: \"\";position: absolute;border-left: 1px solid gray;box-sizing: border-box;top: 0;bottom: 0;left: 50%;z-index: 0;}#sk-container-id-5 div.sk-serial {display: flex;flex-direction: column;align-items: center;background-color: white;padding-right: 0.2em;padding-left: 0.2em;position: relative;}#sk-container-id-5 div.sk-item {position: relative;z-index: 1;}#sk-container-id-5 div.sk-parallel {display: flex;align-items: stretch;justify-content: center;background-color: white;position: relative;}#sk-container-id-5 div.sk-item::before, #sk-container-id-5 div.sk-parallel-item::before {content: \"\";position: absolute;border-left: 1px solid gray;box-sizing: border-box;top: 0;bottom: 0;left: 50%;z-index: -1;}#sk-container-id-5 div.sk-parallel-item {display: flex;flex-direction: column;z-index: 1;position: relative;background-color: white;}#sk-container-id-5 div.sk-parallel-item:first-child::after {align-self: flex-end;width: 50%;}#sk-container-id-5 div.sk-parallel-item:last-child::after {align-self: flex-start;width: 50%;}#sk-container-id-5 div.sk-parallel-item:only-child::after {width: 0;}#sk-container-id-5 div.sk-dashed-wrapped {border: 1px dashed gray;margin: 0 0.4em 0.5em 0.4em;box-sizing: border-box;padding-bottom: 0.4em;background-color: white;}#sk-container-id-5 div.sk-label label {font-family: monospace;font-weight: bold;display: inline-block;line-height: 1.2em;}#sk-container-id-5 div.sk-label-container {text-align: center;}#sk-container-id-5 div.sk-container {/* jupyter's `normalize.less` sets `[hidden] { display: none; }` but bootstrap.min.css set `[hidden] { display: none !important; }` so we also need the `!important` here to be able to override the default hidden behavior on the sphinx rendered scikit-learn.org. See: https://github.com/scikit-learn/scikit-learn/issues/21755 */display: inline-block !important;position: relative;}#sk-container-id-5 div.sk-text-repr-fallback {display: none;}</style><div id=\"sk-container-id-5\" class=\"sk-top-container\"><div class=\"sk-text-repr-fallback\"><pre>RandomForestRegressor(max_features=8, n_estimators=30, random_state=42)</pre><b>In a Jupyter environment, please rerun this cell to show the HTML representation or trust the notebook. <br />On GitHub, the HTML representation is unable to render, please try loading this page with nbviewer.org.</b></div><div class=\"sk-container\" hidden><div class=\"sk-item\"><div class=\"sk-estimator sk-toggleable\"><input class=\"sk-toggleable__control sk-hidden--visually\" id=\"sk-estimator-id-7\" type=\"checkbox\" checked><label for=\"sk-estimator-id-7\" class=\"sk-toggleable__label sk-toggleable__label-arrow\">RandomForestRegressor</label><div class=\"sk-toggleable__content\"><pre>RandomForestRegressor(max_features=8, n_estimators=30, random_state=42)</pre></div></div></div></div></div>"
      ],
      "text/plain": [
       "RandomForestRegressor(max_features=8, n_estimators=30, random_state=42)"
      ]
     },
     "execution_count": 47,
     "metadata": {},
     "output_type": "execute_result"
    }
   ],
   "source": [
    "# Die grid_search-Instanz kann auch einen Estimator erstellen, der die besten Parameter schon enthält.\n",
    "final_model=grid_search.best_estimator_\n",
    "final_model"
   ]
  },
  {
   "cell_type": "markdown",
   "metadata": {},
   "source": [
    "Let's look at the score of each hyperparameter combination tested during the grid search:"
   ]
  },
  {
   "cell_type": "code",
   "execution_count": 48,
   "metadata": {},
   "outputs": [
    {
     "data": {
      "text/html": [
       "<div>\n",
       "<style scoped>\n",
       "    .dataframe tbody tr th:only-of-type {\n",
       "        vertical-align: middle;\n",
       "    }\n",
       "\n",
       "    .dataframe tbody tr th {\n",
       "        vertical-align: top;\n",
       "    }\n",
       "\n",
       "    .dataframe thead th {\n",
       "        text-align: right;\n",
       "    }\n",
       "</style>\n",
       "<table border=\"1\" class=\"dataframe\">\n",
       "  <thead>\n",
       "    <tr style=\"text-align: right;\">\n",
       "      <th></th>\n",
       "      <th>mean_fit_time</th>\n",
       "      <th>std_fit_time</th>\n",
       "      <th>mean_score_time</th>\n",
       "      <th>std_score_time</th>\n",
       "      <th>param_max_features</th>\n",
       "      <th>param_n_estimators</th>\n",
       "      <th>params</th>\n",
       "      <th>split0_test_score</th>\n",
       "      <th>split1_test_score</th>\n",
       "      <th>split2_test_score</th>\n",
       "      <th>mean_test_score</th>\n",
       "      <th>std_test_score</th>\n",
       "      <th>rank_test_score</th>\n",
       "    </tr>\n",
       "  </thead>\n",
       "  <tbody>\n",
       "    <tr>\n",
       "      <th>11</th>\n",
       "      <td>7.404942</td>\n",
       "      <td>0.057018</td>\n",
       "      <td>0.036745</td>\n",
       "      <td>1.185818e-03</td>\n",
       "      <td>8</td>\n",
       "      <td>30</td>\n",
       "      <td>{'max_features': 8, 'n_estimators': 30}</td>\n",
       "      <td>-56307.759179</td>\n",
       "      <td>-55902.501324</td>\n",
       "      <td>-57429.478981</td>\n",
       "      <td>-56546.579828</td>\n",
       "      <td>645.854301</td>\n",
       "      <td>1</td>\n",
       "    </tr>\n",
       "    <tr>\n",
       "      <th>8</th>\n",
       "      <td>6.890174</td>\n",
       "      <td>0.036886</td>\n",
       "      <td>0.039930</td>\n",
       "      <td>1.581218e-04</td>\n",
       "      <td>6</td>\n",
       "      <td>30</td>\n",
       "      <td>{'max_features': 6, 'n_estimators': 30}</td>\n",
       "      <td>-56641.604309</td>\n",
       "      <td>-56607.720035</td>\n",
       "      <td>-57791.547673</td>\n",
       "      <td>-57013.624006</td>\n",
       "      <td>550.249011</td>\n",
       "      <td>2</td>\n",
       "    </tr>\n",
       "    <tr>\n",
       "      <th>5</th>\n",
       "      <td>5.483845</td>\n",
       "      <td>0.113311</td>\n",
       "      <td>0.054363</td>\n",
       "      <td>2.820580e-03</td>\n",
       "      <td>4</td>\n",
       "      <td>30</td>\n",
       "      <td>{'max_features': 4, 'n_estimators': 30}</td>\n",
       "      <td>-56549.686306</td>\n",
       "      <td>-56913.367396</td>\n",
       "      <td>-57675.888398</td>\n",
       "      <td>-57046.314033</td>\n",
       "      <td>469.282356</td>\n",
       "      <td>3</td>\n",
       "    </tr>\n",
       "    <tr>\n",
       "      <th>2</th>\n",
       "      <td>3.172615</td>\n",
       "      <td>0.035793</td>\n",
       "      <td>0.056189</td>\n",
       "      <td>2.707524e-03</td>\n",
       "      <td>2</td>\n",
       "      <td>30</td>\n",
       "      <td>{'max_features': 2, 'n_estimators': 30}</td>\n",
       "      <td>-57555.415783</td>\n",
       "      <td>-58254.029193</td>\n",
       "      <td>-59137.367368</td>\n",
       "      <td>-58315.604115</td>\n",
       "      <td>647.295042</td>\n",
       "      <td>4</td>\n",
       "    </tr>\n",
       "    <tr>\n",
       "      <th>10</th>\n",
       "      <td>3.163225</td>\n",
       "      <td>0.006926</td>\n",
       "      <td>0.016954</td>\n",
       "      <td>8.142961e-04</td>\n",
       "      <td>8</td>\n",
       "      <td>10</td>\n",
       "      <td>{'max_features': 8, 'n_estimators': 10}</td>\n",
       "      <td>-58727.221749</td>\n",
       "      <td>-58155.221529</td>\n",
       "      <td>-59999.439213</td>\n",
       "      <td>-58960.627497</td>\n",
       "      <td>770.775972</td>\n",
       "      <td>5</td>\n",
       "    </tr>\n",
       "    <tr>\n",
       "      <th>7</th>\n",
       "      <td>2.553470</td>\n",
       "      <td>0.049188</td>\n",
       "      <td>0.018617</td>\n",
       "      <td>9.403244e-04</td>\n",
       "      <td>6</td>\n",
       "      <td>10</td>\n",
       "      <td>{'max_features': 6, 'n_estimators': 10}</td>\n",
       "      <td>-58979.517997</td>\n",
       "      <td>-59014.217516</td>\n",
       "      <td>-60364.899735</td>\n",
       "      <td>-59452.878416</td>\n",
       "      <td>645.052028</td>\n",
       "      <td>6</td>\n",
       "    </tr>\n",
       "    <tr>\n",
       "      <th>4</th>\n",
       "      <td>1.788431</td>\n",
       "      <td>0.016266</td>\n",
       "      <td>0.017952</td>\n",
       "      <td>8.139067e-04</td>\n",
       "      <td>4</td>\n",
       "      <td>10</td>\n",
       "      <td>{'max_features': 4, 'n_estimators': 10}</td>\n",
       "      <td>-58963.948891</td>\n",
       "      <td>-59573.549877</td>\n",
       "      <td>-60349.639842</td>\n",
       "      <td>-59629.046203</td>\n",
       "      <td>567.065390</td>\n",
       "      <td>7</td>\n",
       "    </tr>\n",
       "    <tr>\n",
       "      <th>1</th>\n",
       "      <td>1.010557</td>\n",
       "      <td>0.025248</td>\n",
       "      <td>0.019947</td>\n",
       "      <td>2.154609e-03</td>\n",
       "      <td>2</td>\n",
       "      <td>10</td>\n",
       "      <td>{'max_features': 2, 'n_estimators': 10}</td>\n",
       "      <td>-59192.265935</td>\n",
       "      <td>-60355.441277</td>\n",
       "      <td>-61590.428118</td>\n",
       "      <td>-60379.378443</td>\n",
       "      <td>979.191913</td>\n",
       "      <td>8</td>\n",
       "    </tr>\n",
       "    <tr>\n",
       "      <th>9</th>\n",
       "      <td>1.033615</td>\n",
       "      <td>0.009822</td>\n",
       "      <td>0.007646</td>\n",
       "      <td>2.350895e-03</td>\n",
       "      <td>8</td>\n",
       "      <td>3</td>\n",
       "      <td>{'max_features': 8, 'n_estimators': 3}</td>\n",
       "      <td>-65417.802745</td>\n",
       "      <td>-65572.363560</td>\n",
       "      <td>-67518.556592</td>\n",
       "      <td>-66169.574299</td>\n",
       "      <td>955.959268</td>\n",
       "      <td>9</td>\n",
       "    </tr>\n",
       "    <tr>\n",
       "      <th>6</th>\n",
       "      <td>0.782818</td>\n",
       "      <td>0.030603</td>\n",
       "      <td>0.006649</td>\n",
       "      <td>4.701342e-04</td>\n",
       "      <td>6</td>\n",
       "      <td>3</td>\n",
       "      <td>{'max_features': 6, 'n_estimators': 3}</td>\n",
       "      <td>-66378.290252</td>\n",
       "      <td>-66899.550412</td>\n",
       "      <td>-69040.109093</td>\n",
       "      <td>-67439.316586</td>\n",
       "      <td>1151.761123</td>\n",
       "      <td>10</td>\n",
       "    </tr>\n",
       "    <tr>\n",
       "      <th>3</th>\n",
       "      <td>0.545422</td>\n",
       "      <td>0.016288</td>\n",
       "      <td>0.006649</td>\n",
       "      <td>9.406053e-04</td>\n",
       "      <td>4</td>\n",
       "      <td>3</td>\n",
       "      <td>{'max_features': 4, 'n_estimators': 3}</td>\n",
       "      <td>-67085.659909</td>\n",
       "      <td>-67019.918992</td>\n",
       "      <td>-68263.121490</td>\n",
       "      <td>-67456.233464</td>\n",
       "      <td>571.186883</td>\n",
       "      <td>11</td>\n",
       "    </tr>\n",
       "    <tr>\n",
       "      <th>0</th>\n",
       "      <td>0.328137</td>\n",
       "      <td>0.024430</td>\n",
       "      <td>0.006981</td>\n",
       "      <td>2.247832e-07</td>\n",
       "      <td>2</td>\n",
       "      <td>3</td>\n",
       "      <td>{'max_features': 2, 'n_estimators': 3}</td>\n",
       "      <td>-66789.483447</td>\n",
       "      <td>-68613.729018</td>\n",
       "      <td>-69713.005163</td>\n",
       "      <td>-68372.072542</td>\n",
       "      <td>1205.692939</td>\n",
       "      <td>12</td>\n",
       "    </tr>\n",
       "  </tbody>\n",
       "</table>\n",
       "</div>"
      ],
      "text/plain": [
       "    mean_fit_time  std_fit_time  mean_score_time  std_score_time  \\\n",
       "11       7.404942      0.057018         0.036745    1.185818e-03   \n",
       "8        6.890174      0.036886         0.039930    1.581218e-04   \n",
       "5        5.483845      0.113311         0.054363    2.820580e-03   \n",
       "2        3.172615      0.035793         0.056189    2.707524e-03   \n",
       "10       3.163225      0.006926         0.016954    8.142961e-04   \n",
       "7        2.553470      0.049188         0.018617    9.403244e-04   \n",
       "4        1.788431      0.016266         0.017952    8.139067e-04   \n",
       "1        1.010557      0.025248         0.019947    2.154609e-03   \n",
       "9        1.033615      0.009822         0.007646    2.350895e-03   \n",
       "6        0.782818      0.030603         0.006649    4.701342e-04   \n",
       "3        0.545422      0.016288         0.006649    9.406053e-04   \n",
       "0        0.328137      0.024430         0.006981    2.247832e-07   \n",
       "\n",
       "   param_max_features param_n_estimators  \\\n",
       "11                  8                 30   \n",
       "8                   6                 30   \n",
       "5                   4                 30   \n",
       "2                   2                 30   \n",
       "10                  8                 10   \n",
       "7                   6                 10   \n",
       "4                   4                 10   \n",
       "1                   2                 10   \n",
       "9                   8                  3   \n",
       "6                   6                  3   \n",
       "3                   4                  3   \n",
       "0                   2                  3   \n",
       "\n",
       "                                     params  split0_test_score  \\\n",
       "11  {'max_features': 8, 'n_estimators': 30}      -56307.759179   \n",
       "8   {'max_features': 6, 'n_estimators': 30}      -56641.604309   \n",
       "5   {'max_features': 4, 'n_estimators': 30}      -56549.686306   \n",
       "2   {'max_features': 2, 'n_estimators': 30}      -57555.415783   \n",
       "10  {'max_features': 8, 'n_estimators': 10}      -58727.221749   \n",
       "7   {'max_features': 6, 'n_estimators': 10}      -58979.517997   \n",
       "4   {'max_features': 4, 'n_estimators': 10}      -58963.948891   \n",
       "1   {'max_features': 2, 'n_estimators': 10}      -59192.265935   \n",
       "9    {'max_features': 8, 'n_estimators': 3}      -65417.802745   \n",
       "6    {'max_features': 6, 'n_estimators': 3}      -66378.290252   \n",
       "3    {'max_features': 4, 'n_estimators': 3}      -67085.659909   \n",
       "0    {'max_features': 2, 'n_estimators': 3}      -66789.483447   \n",
       "\n",
       "    split1_test_score  split2_test_score  mean_test_score  std_test_score  \\\n",
       "11      -55902.501324      -57429.478981    -56546.579828      645.854301   \n",
       "8       -56607.720035      -57791.547673    -57013.624006      550.249011   \n",
       "5       -56913.367396      -57675.888398    -57046.314033      469.282356   \n",
       "2       -58254.029193      -59137.367368    -58315.604115      647.295042   \n",
       "10      -58155.221529      -59999.439213    -58960.627497      770.775972   \n",
       "7       -59014.217516      -60364.899735    -59452.878416      645.052028   \n",
       "4       -59573.549877      -60349.639842    -59629.046203      567.065390   \n",
       "1       -60355.441277      -61590.428118    -60379.378443      979.191913   \n",
       "9       -65572.363560      -67518.556592    -66169.574299      955.959268   \n",
       "6       -66899.550412      -69040.109093    -67439.316586     1151.761123   \n",
       "3       -67019.918992      -68263.121490    -67456.233464      571.186883   \n",
       "0       -68613.729018      -69713.005163    -68372.072542     1205.692939   \n",
       "\n",
       "    rank_test_score  \n",
       "11                1  \n",
       "8                 2  \n",
       "5                 3  \n",
       "2                 4  \n",
       "10                5  \n",
       "7                 6  \n",
       "4                 7  \n",
       "1                 8  \n",
       "9                 9  \n",
       "6                10  \n",
       "3                11  \n",
       "0                12  "
      ]
     },
     "execution_count": 48,
     "metadata": {},
     "output_type": "execute_result"
    }
   ],
   "source": [
    "cv_res = pd.DataFrame(grid_search.cv_results_)\n",
    "cv_res.sort_values(by=\"mean_test_score\", ascending=False,\n",
    "                   inplace=True)\n",
    "cv_res"
   ]
  },
  {
   "cell_type": "code",
   "execution_count": 50,
   "metadata": {},
   "outputs": [
    {
     "data": {
      "text/html": [
       "<div>\n",
       "<style scoped>\n",
       "    .dataframe tbody tr th:only-of-type {\n",
       "        vertical-align: middle;\n",
       "    }\n",
       "\n",
       "    .dataframe tbody tr th {\n",
       "        vertical-align: top;\n",
       "    }\n",
       "\n",
       "    .dataframe thead th {\n",
       "        text-align: right;\n",
       "    }\n",
       "</style>\n",
       "<table border=\"1\" class=\"dataframe\">\n",
       "  <thead>\n",
       "    <tr style=\"text-align: right;\">\n",
       "      <th></th>\n",
       "      <th>param_n_estimators</th>\n",
       "      <th>param_max_features</th>\n",
       "      <th>split0_test_score</th>\n",
       "      <th>split1_test_score</th>\n",
       "      <th>split2_test_score</th>\n",
       "      <th>mean_test_score</th>\n",
       "    </tr>\n",
       "  </thead>\n",
       "  <tbody>\n",
       "    <tr>\n",
       "      <th>0</th>\n",
       "      <td>3</td>\n",
       "      <td>2</td>\n",
       "      <td>-66789.483447</td>\n",
       "      <td>-68613.729018</td>\n",
       "      <td>-69713.005163</td>\n",
       "      <td>-68372.072542</td>\n",
       "    </tr>\n",
       "    <tr>\n",
       "      <th>1</th>\n",
       "      <td>10</td>\n",
       "      <td>2</td>\n",
       "      <td>-59192.265935</td>\n",
       "      <td>-60355.441277</td>\n",
       "      <td>-61590.428118</td>\n",
       "      <td>-60379.378443</td>\n",
       "    </tr>\n",
       "    <tr>\n",
       "      <th>2</th>\n",
       "      <td>30</td>\n",
       "      <td>2</td>\n",
       "      <td>-57555.415783</td>\n",
       "      <td>-58254.029193</td>\n",
       "      <td>-59137.367368</td>\n",
       "      <td>-58315.604115</td>\n",
       "    </tr>\n",
       "    <tr>\n",
       "      <th>3</th>\n",
       "      <td>3</td>\n",
       "      <td>4</td>\n",
       "      <td>-67085.659909</td>\n",
       "      <td>-67019.918992</td>\n",
       "      <td>-68263.121490</td>\n",
       "      <td>-67456.233464</td>\n",
       "    </tr>\n",
       "    <tr>\n",
       "      <th>4</th>\n",
       "      <td>10</td>\n",
       "      <td>4</td>\n",
       "      <td>-58963.948891</td>\n",
       "      <td>-59573.549877</td>\n",
       "      <td>-60349.639842</td>\n",
       "      <td>-59629.046203</td>\n",
       "    </tr>\n",
       "    <tr>\n",
       "      <th>5</th>\n",
       "      <td>30</td>\n",
       "      <td>4</td>\n",
       "      <td>-56549.686306</td>\n",
       "      <td>-56913.367396</td>\n",
       "      <td>-57675.888398</td>\n",
       "      <td>-57046.314033</td>\n",
       "    </tr>\n",
       "    <tr>\n",
       "      <th>6</th>\n",
       "      <td>3</td>\n",
       "      <td>6</td>\n",
       "      <td>-66378.290252</td>\n",
       "      <td>-66899.550412</td>\n",
       "      <td>-69040.109093</td>\n",
       "      <td>-67439.316586</td>\n",
       "    </tr>\n",
       "    <tr>\n",
       "      <th>7</th>\n",
       "      <td>10</td>\n",
       "      <td>6</td>\n",
       "      <td>-58979.517997</td>\n",
       "      <td>-59014.217516</td>\n",
       "      <td>-60364.899735</td>\n",
       "      <td>-59452.878416</td>\n",
       "    </tr>\n",
       "    <tr>\n",
       "      <th>8</th>\n",
       "      <td>30</td>\n",
       "      <td>6</td>\n",
       "      <td>-56641.604309</td>\n",
       "      <td>-56607.720035</td>\n",
       "      <td>-57791.547673</td>\n",
       "      <td>-57013.624006</td>\n",
       "    </tr>\n",
       "    <tr>\n",
       "      <th>9</th>\n",
       "      <td>3</td>\n",
       "      <td>8</td>\n",
       "      <td>-65417.802745</td>\n",
       "      <td>-65572.363560</td>\n",
       "      <td>-67518.556592</td>\n",
       "      <td>-66169.574299</td>\n",
       "    </tr>\n",
       "    <tr>\n",
       "      <th>10</th>\n",
       "      <td>10</td>\n",
       "      <td>8</td>\n",
       "      <td>-58727.221749</td>\n",
       "      <td>-58155.221529</td>\n",
       "      <td>-59999.439213</td>\n",
       "      <td>-58960.627497</td>\n",
       "    </tr>\n",
       "    <tr>\n",
       "      <th>11</th>\n",
       "      <td>30</td>\n",
       "      <td>8</td>\n",
       "      <td>-56307.759179</td>\n",
       "      <td>-55902.501324</td>\n",
       "      <td>-57429.478981</td>\n",
       "      <td>-56546.579828</td>\n",
       "    </tr>\n",
       "  </tbody>\n",
       "</table>\n",
       "</div>"
      ],
      "text/plain": [
       "   param_n_estimators param_max_features  split0_test_score  \\\n",
       "0                   3                  2      -66789.483447   \n",
       "1                  10                  2      -59192.265935   \n",
       "2                  30                  2      -57555.415783   \n",
       "3                   3                  4      -67085.659909   \n",
       "4                  10                  4      -58963.948891   \n",
       "5                  30                  4      -56549.686306   \n",
       "6                   3                  6      -66378.290252   \n",
       "7                  10                  6      -58979.517997   \n",
       "8                  30                  6      -56641.604309   \n",
       "9                   3                  8      -65417.802745   \n",
       "10                 10                  8      -58727.221749   \n",
       "11                 30                  8      -56307.759179   \n",
       "\n",
       "    split1_test_score  split2_test_score  mean_test_score  \n",
       "0       -68613.729018      -69713.005163    -68372.072542  \n",
       "1       -60355.441277      -61590.428118    -60379.378443  \n",
       "2       -58254.029193      -59137.367368    -58315.604115  \n",
       "3       -67019.918992      -68263.121490    -67456.233464  \n",
       "4       -59573.549877      -60349.639842    -59629.046203  \n",
       "5       -56913.367396      -57675.888398    -57046.314033  \n",
       "6       -66899.550412      -69040.109093    -67439.316586  \n",
       "7       -59014.217516      -60364.899735    -59452.878416  \n",
       "8       -56607.720035      -57791.547673    -57013.624006  \n",
       "9       -65572.363560      -67518.556592    -66169.574299  \n",
       "10      -58155.221529      -59999.439213    -58960.627497  \n",
       "11      -55902.501324      -57429.478981    -56546.579828  "
      ]
     },
     "execution_count": 50,
     "metadata": {},
     "output_type": "execute_result"
    }
   ],
   "source": [
    "# extra code – these few lines of code just make the DataFrame look nicer\n",
    "cv_res = cv_res[[\n",
    "                 \"param_n_estimators\",\"param_max_features\", \"split0_test_score\",\n",
    "                 \"split1_test_score\", \"split2_test_score\", \"mean_test_score\"]]\n",
    "#score_cols = [\"split0\", \"split1\", \"split2\", \"mean_test_mae\"]\n",
    "#cv_res.columns = [\"n_estimators\",\"max_features\"] + score_cols\n",
    "#cv_res[score_cols] = -cv_res[score_cols].round().astype(np.int64)\n",
    "\n",
    "cv_res"
   ]
  },
  {
   "cell_type": "code",
   "execution_count": 51,
   "metadata": {},
   "outputs": [
    {
     "data": {
      "text/html": [
       "<div>\n",
       "<style scoped>\n",
       "    .dataframe tbody tr th:only-of-type {\n",
       "        vertical-align: middle;\n",
       "    }\n",
       "\n",
       "    .dataframe tbody tr th {\n",
       "        vertical-align: top;\n",
       "    }\n",
       "\n",
       "    .dataframe thead th {\n",
       "        text-align: right;\n",
       "    }\n",
       "</style>\n",
       "<table border=\"1\" class=\"dataframe\">\n",
       "  <thead>\n",
       "    <tr style=\"text-align: right;\">\n",
       "      <th></th>\n",
       "      <th>mean_fit_time</th>\n",
       "      <th>std_fit_time</th>\n",
       "      <th>mean_score_time</th>\n",
       "      <th>std_score_time</th>\n",
       "      <th>param_max_features</th>\n",
       "      <th>param_n_estimators</th>\n",
       "      <th>params</th>\n",
       "      <th>split0_test_score</th>\n",
       "      <th>split1_test_score</th>\n",
       "      <th>split2_test_score</th>\n",
       "      <th>mean_test_score</th>\n",
       "      <th>std_test_score</th>\n",
       "      <th>rank_test_score</th>\n",
       "    </tr>\n",
       "  </thead>\n",
       "  <tbody>\n",
       "    <tr>\n",
       "      <th>0</th>\n",
       "      <td>0.328137</td>\n",
       "      <td>0.024430</td>\n",
       "      <td>0.006981</td>\n",
       "      <td>2.247832e-07</td>\n",
       "      <td>2</td>\n",
       "      <td>3</td>\n",
       "      <td>{'max_features': 2, 'n_estimators': 3}</td>\n",
       "      <td>-66789.483447</td>\n",
       "      <td>-68613.729018</td>\n",
       "      <td>-69713.005163</td>\n",
       "      <td>-68372.072542</td>\n",
       "      <td>1205.692939</td>\n",
       "      <td>12</td>\n",
       "    </tr>\n",
       "    <tr>\n",
       "      <th>1</th>\n",
       "      <td>1.010557</td>\n",
       "      <td>0.025248</td>\n",
       "      <td>0.019947</td>\n",
       "      <td>2.154609e-03</td>\n",
       "      <td>2</td>\n",
       "      <td>10</td>\n",
       "      <td>{'max_features': 2, 'n_estimators': 10}</td>\n",
       "      <td>-59192.265935</td>\n",
       "      <td>-60355.441277</td>\n",
       "      <td>-61590.428118</td>\n",
       "      <td>-60379.378443</td>\n",
       "      <td>979.191913</td>\n",
       "      <td>8</td>\n",
       "    </tr>\n",
       "    <tr>\n",
       "      <th>2</th>\n",
       "      <td>3.172615</td>\n",
       "      <td>0.035793</td>\n",
       "      <td>0.056189</td>\n",
       "      <td>2.707524e-03</td>\n",
       "      <td>2</td>\n",
       "      <td>30</td>\n",
       "      <td>{'max_features': 2, 'n_estimators': 30}</td>\n",
       "      <td>-57555.415783</td>\n",
       "      <td>-58254.029193</td>\n",
       "      <td>-59137.367368</td>\n",
       "      <td>-58315.604115</td>\n",
       "      <td>647.295042</td>\n",
       "      <td>4</td>\n",
       "    </tr>\n",
       "    <tr>\n",
       "      <th>3</th>\n",
       "      <td>0.545422</td>\n",
       "      <td>0.016288</td>\n",
       "      <td>0.006649</td>\n",
       "      <td>9.406053e-04</td>\n",
       "      <td>4</td>\n",
       "      <td>3</td>\n",
       "      <td>{'max_features': 4, 'n_estimators': 3}</td>\n",
       "      <td>-67085.659909</td>\n",
       "      <td>-67019.918992</td>\n",
       "      <td>-68263.121490</td>\n",
       "      <td>-67456.233464</td>\n",
       "      <td>571.186883</td>\n",
       "      <td>11</td>\n",
       "    </tr>\n",
       "    <tr>\n",
       "      <th>4</th>\n",
       "      <td>1.788431</td>\n",
       "      <td>0.016266</td>\n",
       "      <td>0.017952</td>\n",
       "      <td>8.139067e-04</td>\n",
       "      <td>4</td>\n",
       "      <td>10</td>\n",
       "      <td>{'max_features': 4, 'n_estimators': 10}</td>\n",
       "      <td>-58963.948891</td>\n",
       "      <td>-59573.549877</td>\n",
       "      <td>-60349.639842</td>\n",
       "      <td>-59629.046203</td>\n",
       "      <td>567.065390</td>\n",
       "      <td>7</td>\n",
       "    </tr>\n",
       "    <tr>\n",
       "      <th>5</th>\n",
       "      <td>5.483845</td>\n",
       "      <td>0.113311</td>\n",
       "      <td>0.054363</td>\n",
       "      <td>2.820580e-03</td>\n",
       "      <td>4</td>\n",
       "      <td>30</td>\n",
       "      <td>{'max_features': 4, 'n_estimators': 30}</td>\n",
       "      <td>-56549.686306</td>\n",
       "      <td>-56913.367396</td>\n",
       "      <td>-57675.888398</td>\n",
       "      <td>-57046.314033</td>\n",
       "      <td>469.282356</td>\n",
       "      <td>3</td>\n",
       "    </tr>\n",
       "    <tr>\n",
       "      <th>6</th>\n",
       "      <td>0.782818</td>\n",
       "      <td>0.030603</td>\n",
       "      <td>0.006649</td>\n",
       "      <td>4.701342e-04</td>\n",
       "      <td>6</td>\n",
       "      <td>3</td>\n",
       "      <td>{'max_features': 6, 'n_estimators': 3}</td>\n",
       "      <td>-66378.290252</td>\n",
       "      <td>-66899.550412</td>\n",
       "      <td>-69040.109093</td>\n",
       "      <td>-67439.316586</td>\n",
       "      <td>1151.761123</td>\n",
       "      <td>10</td>\n",
       "    </tr>\n",
       "    <tr>\n",
       "      <th>7</th>\n",
       "      <td>2.553470</td>\n",
       "      <td>0.049188</td>\n",
       "      <td>0.018617</td>\n",
       "      <td>9.403244e-04</td>\n",
       "      <td>6</td>\n",
       "      <td>10</td>\n",
       "      <td>{'max_features': 6, 'n_estimators': 10}</td>\n",
       "      <td>-58979.517997</td>\n",
       "      <td>-59014.217516</td>\n",
       "      <td>-60364.899735</td>\n",
       "      <td>-59452.878416</td>\n",
       "      <td>645.052028</td>\n",
       "      <td>6</td>\n",
       "    </tr>\n",
       "    <tr>\n",
       "      <th>8</th>\n",
       "      <td>6.890174</td>\n",
       "      <td>0.036886</td>\n",
       "      <td>0.039930</td>\n",
       "      <td>1.581218e-04</td>\n",
       "      <td>6</td>\n",
       "      <td>30</td>\n",
       "      <td>{'max_features': 6, 'n_estimators': 30}</td>\n",
       "      <td>-56641.604309</td>\n",
       "      <td>-56607.720035</td>\n",
       "      <td>-57791.547673</td>\n",
       "      <td>-57013.624006</td>\n",
       "      <td>550.249011</td>\n",
       "      <td>2</td>\n",
       "    </tr>\n",
       "    <tr>\n",
       "      <th>9</th>\n",
       "      <td>1.033615</td>\n",
       "      <td>0.009822</td>\n",
       "      <td>0.007646</td>\n",
       "      <td>2.350895e-03</td>\n",
       "      <td>8</td>\n",
       "      <td>3</td>\n",
       "      <td>{'max_features': 8, 'n_estimators': 3}</td>\n",
       "      <td>-65417.802745</td>\n",
       "      <td>-65572.363560</td>\n",
       "      <td>-67518.556592</td>\n",
       "      <td>-66169.574299</td>\n",
       "      <td>955.959268</td>\n",
       "      <td>9</td>\n",
       "    </tr>\n",
       "    <tr>\n",
       "      <th>10</th>\n",
       "      <td>3.163225</td>\n",
       "      <td>0.006926</td>\n",
       "      <td>0.016954</td>\n",
       "      <td>8.142961e-04</td>\n",
       "      <td>8</td>\n",
       "      <td>10</td>\n",
       "      <td>{'max_features': 8, 'n_estimators': 10}</td>\n",
       "      <td>-58727.221749</td>\n",
       "      <td>-58155.221529</td>\n",
       "      <td>-59999.439213</td>\n",
       "      <td>-58960.627497</td>\n",
       "      <td>770.775972</td>\n",
       "      <td>5</td>\n",
       "    </tr>\n",
       "    <tr>\n",
       "      <th>11</th>\n",
       "      <td>7.404942</td>\n",
       "      <td>0.057018</td>\n",
       "      <td>0.036745</td>\n",
       "      <td>1.185818e-03</td>\n",
       "      <td>8</td>\n",
       "      <td>30</td>\n",
       "      <td>{'max_features': 8, 'n_estimators': 30}</td>\n",
       "      <td>-56307.759179</td>\n",
       "      <td>-55902.501324</td>\n",
       "      <td>-57429.478981</td>\n",
       "      <td>-56546.579828</td>\n",
       "      <td>645.854301</td>\n",
       "      <td>1</td>\n",
       "    </tr>\n",
       "  </tbody>\n",
       "</table>\n",
       "</div>"
      ],
      "text/plain": [
       "    mean_fit_time  std_fit_time  mean_score_time  std_score_time  \\\n",
       "0        0.328137      0.024430         0.006981    2.247832e-07   \n",
       "1        1.010557      0.025248         0.019947    2.154609e-03   \n",
       "2        3.172615      0.035793         0.056189    2.707524e-03   \n",
       "3        0.545422      0.016288         0.006649    9.406053e-04   \n",
       "4        1.788431      0.016266         0.017952    8.139067e-04   \n",
       "5        5.483845      0.113311         0.054363    2.820580e-03   \n",
       "6        0.782818      0.030603         0.006649    4.701342e-04   \n",
       "7        2.553470      0.049188         0.018617    9.403244e-04   \n",
       "8        6.890174      0.036886         0.039930    1.581218e-04   \n",
       "9        1.033615      0.009822         0.007646    2.350895e-03   \n",
       "10       3.163225      0.006926         0.016954    8.142961e-04   \n",
       "11       7.404942      0.057018         0.036745    1.185818e-03   \n",
       "\n",
       "   param_max_features param_n_estimators  \\\n",
       "0                   2                  3   \n",
       "1                   2                 10   \n",
       "2                   2                 30   \n",
       "3                   4                  3   \n",
       "4                   4                 10   \n",
       "5                   4                 30   \n",
       "6                   6                  3   \n",
       "7                   6                 10   \n",
       "8                   6                 30   \n",
       "9                   8                  3   \n",
       "10                  8                 10   \n",
       "11                  8                 30   \n",
       "\n",
       "                                     params  split0_test_score  \\\n",
       "0    {'max_features': 2, 'n_estimators': 3}      -66789.483447   \n",
       "1   {'max_features': 2, 'n_estimators': 10}      -59192.265935   \n",
       "2   {'max_features': 2, 'n_estimators': 30}      -57555.415783   \n",
       "3    {'max_features': 4, 'n_estimators': 3}      -67085.659909   \n",
       "4   {'max_features': 4, 'n_estimators': 10}      -58963.948891   \n",
       "5   {'max_features': 4, 'n_estimators': 30}      -56549.686306   \n",
       "6    {'max_features': 6, 'n_estimators': 3}      -66378.290252   \n",
       "7   {'max_features': 6, 'n_estimators': 10}      -58979.517997   \n",
       "8   {'max_features': 6, 'n_estimators': 30}      -56641.604309   \n",
       "9    {'max_features': 8, 'n_estimators': 3}      -65417.802745   \n",
       "10  {'max_features': 8, 'n_estimators': 10}      -58727.221749   \n",
       "11  {'max_features': 8, 'n_estimators': 30}      -56307.759179   \n",
       "\n",
       "    split1_test_score  split2_test_score  mean_test_score  std_test_score  \\\n",
       "0       -68613.729018      -69713.005163    -68372.072542     1205.692939   \n",
       "1       -60355.441277      -61590.428118    -60379.378443      979.191913   \n",
       "2       -58254.029193      -59137.367368    -58315.604115      647.295042   \n",
       "3       -67019.918992      -68263.121490    -67456.233464      571.186883   \n",
       "4       -59573.549877      -60349.639842    -59629.046203      567.065390   \n",
       "5       -56913.367396      -57675.888398    -57046.314033      469.282356   \n",
       "6       -66899.550412      -69040.109093    -67439.316586     1151.761123   \n",
       "7       -59014.217516      -60364.899735    -59452.878416      645.052028   \n",
       "8       -56607.720035      -57791.547673    -57013.624006      550.249011   \n",
       "9       -65572.363560      -67518.556592    -66169.574299      955.959268   \n",
       "10      -58155.221529      -59999.439213    -58960.627497      770.775972   \n",
       "11      -55902.501324      -57429.478981    -56546.579828      645.854301   \n",
       "\n",
       "    rank_test_score  \n",
       "0                12  \n",
       "1                 8  \n",
       "2                 4  \n",
       "3                11  \n",
       "4                 7  \n",
       "5                 3  \n",
       "6                10  \n",
       "7                 6  \n",
       "8                 2  \n",
       "9                 9  \n",
       "10                5  \n",
       "11                1  "
      ]
     },
     "execution_count": 51,
     "metadata": {},
     "output_type": "execute_result"
    }
   ],
   "source": [
    "cv_res = pd.DataFrame(grid_search.cv_results_)\n",
    "cv_res"
   ]
  },
  {
   "cell_type": "markdown",
   "metadata": {},
   "source": [
    "## Gridsearch mit MAPE"
   ]
  },
  {
   "cell_type": "code",
   "execution_count": 52,
   "metadata": {},
   "outputs": [
    {
     "data": {
      "text/html": [
       "<style>#sk-container-id-6 {color: black;}#sk-container-id-6 pre{padding: 0;}#sk-container-id-6 div.sk-toggleable {background-color: white;}#sk-container-id-6 label.sk-toggleable__label {cursor: pointer;display: block;width: 100%;margin-bottom: 0;padding: 0.3em;box-sizing: border-box;text-align: center;}#sk-container-id-6 label.sk-toggleable__label-arrow:before {content: \"▸\";float: left;margin-right: 0.25em;color: #696969;}#sk-container-id-6 label.sk-toggleable__label-arrow:hover:before {color: black;}#sk-container-id-6 div.sk-estimator:hover label.sk-toggleable__label-arrow:before {color: black;}#sk-container-id-6 div.sk-toggleable__content {max-height: 0;max-width: 0;overflow: hidden;text-align: left;background-color: #f0f8ff;}#sk-container-id-6 div.sk-toggleable__content pre {margin: 0.2em;color: black;border-radius: 0.25em;background-color: #f0f8ff;}#sk-container-id-6 input.sk-toggleable__control:checked~div.sk-toggleable__content {max-height: 200px;max-width: 100%;overflow: auto;}#sk-container-id-6 input.sk-toggleable__control:checked~label.sk-toggleable__label-arrow:before {content: \"▾\";}#sk-container-id-6 div.sk-estimator input.sk-toggleable__control:checked~label.sk-toggleable__label {background-color: #d4ebff;}#sk-container-id-6 div.sk-label input.sk-toggleable__control:checked~label.sk-toggleable__label {background-color: #d4ebff;}#sk-container-id-6 input.sk-hidden--visually {border: 0;clip: rect(1px 1px 1px 1px);clip: rect(1px, 1px, 1px, 1px);height: 1px;margin: -1px;overflow: hidden;padding: 0;position: absolute;width: 1px;}#sk-container-id-6 div.sk-estimator {font-family: monospace;background-color: #f0f8ff;border: 1px dotted black;border-radius: 0.25em;box-sizing: border-box;margin-bottom: 0.5em;}#sk-container-id-6 div.sk-estimator:hover {background-color: #d4ebff;}#sk-container-id-6 div.sk-parallel-item::after {content: \"\";width: 100%;border-bottom: 1px solid gray;flex-grow: 1;}#sk-container-id-6 div.sk-label:hover label.sk-toggleable__label {background-color: #d4ebff;}#sk-container-id-6 div.sk-serial::before {content: \"\";position: absolute;border-left: 1px solid gray;box-sizing: border-box;top: 0;bottom: 0;left: 50%;z-index: 0;}#sk-container-id-6 div.sk-serial {display: flex;flex-direction: column;align-items: center;background-color: white;padding-right: 0.2em;padding-left: 0.2em;position: relative;}#sk-container-id-6 div.sk-item {position: relative;z-index: 1;}#sk-container-id-6 div.sk-parallel {display: flex;align-items: stretch;justify-content: center;background-color: white;position: relative;}#sk-container-id-6 div.sk-item::before, #sk-container-id-6 div.sk-parallel-item::before {content: \"\";position: absolute;border-left: 1px solid gray;box-sizing: border-box;top: 0;bottom: 0;left: 50%;z-index: -1;}#sk-container-id-6 div.sk-parallel-item {display: flex;flex-direction: column;z-index: 1;position: relative;background-color: white;}#sk-container-id-6 div.sk-parallel-item:first-child::after {align-self: flex-end;width: 50%;}#sk-container-id-6 div.sk-parallel-item:last-child::after {align-self: flex-start;width: 50%;}#sk-container-id-6 div.sk-parallel-item:only-child::after {width: 0;}#sk-container-id-6 div.sk-dashed-wrapped {border: 1px dashed gray;margin: 0 0.4em 0.5em 0.4em;box-sizing: border-box;padding-bottom: 0.4em;background-color: white;}#sk-container-id-6 div.sk-label label {font-family: monospace;font-weight: bold;display: inline-block;line-height: 1.2em;}#sk-container-id-6 div.sk-label-container {text-align: center;}#sk-container-id-6 div.sk-container {/* jupyter's `normalize.less` sets `[hidden] { display: none; }` but bootstrap.min.css set `[hidden] { display: none !important; }` so we also need the `!important` here to be able to override the default hidden behavior on the sphinx rendered scikit-learn.org. See: https://github.com/scikit-learn/scikit-learn/issues/21755 */display: inline-block !important;position: relative;}#sk-container-id-6 div.sk-text-repr-fallback {display: none;}</style><div id=\"sk-container-id-6\" class=\"sk-top-container\"><div class=\"sk-text-repr-fallback\"><pre>GridSearchCV(cv=3, estimator=RandomForestRegressor(random_state=42), n_jobs=-1,\n",
       "             param_grid=[{&#x27;max_features&#x27;: [2, 4, 6, 8],\n",
       "                          &#x27;n_estimators&#x27;: [3, 10, 30]}],\n",
       "             scoring=&#x27;neg_mean_absolute_percentage_error&#x27;)</pre><b>In a Jupyter environment, please rerun this cell to show the HTML representation or trust the notebook. <br />On GitHub, the HTML representation is unable to render, please try loading this page with nbviewer.org.</b></div><div class=\"sk-container\" hidden><div class=\"sk-item sk-dashed-wrapped\"><div class=\"sk-label-container\"><div class=\"sk-label sk-toggleable\"><input class=\"sk-toggleable__control sk-hidden--visually\" id=\"sk-estimator-id-8\" type=\"checkbox\" ><label for=\"sk-estimator-id-8\" class=\"sk-toggleable__label sk-toggleable__label-arrow\">GridSearchCV</label><div class=\"sk-toggleable__content\"><pre>GridSearchCV(cv=3, estimator=RandomForestRegressor(random_state=42), n_jobs=-1,\n",
       "             param_grid=[{&#x27;max_features&#x27;: [2, 4, 6, 8],\n",
       "                          &#x27;n_estimators&#x27;: [3, 10, 30]}],\n",
       "             scoring=&#x27;neg_mean_absolute_percentage_error&#x27;)</pre></div></div></div><div class=\"sk-parallel\"><div class=\"sk-parallel-item\"><div class=\"sk-item\"><div class=\"sk-label-container\"><div class=\"sk-label sk-toggleable\"><input class=\"sk-toggleable__control sk-hidden--visually\" id=\"sk-estimator-id-9\" type=\"checkbox\" ><label for=\"sk-estimator-id-9\" class=\"sk-toggleable__label sk-toggleable__label-arrow\">estimator: RandomForestRegressor</label><div class=\"sk-toggleable__content\"><pre>RandomForestRegressor(random_state=42)</pre></div></div></div><div class=\"sk-serial\"><div class=\"sk-item\"><div class=\"sk-estimator sk-toggleable\"><input class=\"sk-toggleable__control sk-hidden--visually\" id=\"sk-estimator-id-10\" type=\"checkbox\" ><label for=\"sk-estimator-id-10\" class=\"sk-toggleable__label sk-toggleable__label-arrow\">RandomForestRegressor</label><div class=\"sk-toggleable__content\"><pre>RandomForestRegressor(random_state=42)</pre></div></div></div></div></div></div></div></div></div></div>"
      ],
      "text/plain": [
       "GridSearchCV(cv=3, estimator=RandomForestRegressor(random_state=42), n_jobs=-1,\n",
       "             param_grid=[{'max_features': [2, 4, 6, 8],\n",
       "                          'n_estimators': [3, 10, 30]}],\n",
       "             scoring='neg_mean_absolute_percentage_error')"
      ]
     },
     "execution_count": 52,
     "metadata": {},
     "output_type": "execute_result"
    }
   ],
   "source": [
    "from sklearn.model_selection import GridSearchCV\n",
    "from sklearn.ensemble import RandomForestRegressor\n",
    "\n",
    "param_grid = [\n",
    "    { 'max_features': [2,4,6,8],\n",
    "      'n_estimators': [3,10,30]}# oder ...[10,100,1000,10000]\n",
    "#,\n",
    "#    {'bootstrap': [False],\n",
    "#     'max_features': [2, 3,4],\n",
    "#     'n_estimators': [3, 10]}\n",
    "]\n",
    "#param_grid enthält eine Dictionary, das ausgewählte Parameter von der Klasse RandomForest zeigt.\n",
    "# Diese Parameter heißen HYPER-PARAMETER\n",
    "# Die Listen, die hinter den Parametern stehen , enthalten mögliche Werte der Parameter.\n",
    "\n",
    "grid_search = GridSearchCV(RandomForestRegressor(random_state=42), \n",
    "                           param_grid, \n",
    "                           cv=3,\n",
    "                           scoring='neg_mean_absolute_percentage_error',\n",
    "                           n_jobs = -1)\n",
    "grid_search.fit(housing_train_data, housing_train_labels)\n",
    "# Das grid_search-Objekt führt ein fit für jede Parameter-kombination aus und macht auch eine Kreuz-Evaluierung(Crossval)"
   ]
  },
  {
   "cell_type": "code",
   "execution_count": 53,
   "metadata": {},
   "outputs": [
    {
     "data": {
      "text/plain": [
       "{'max_features': 8, 'n_estimators': 30}"
      ]
     },
     "execution_count": 53,
     "metadata": {},
     "output_type": "execute_result"
    }
   ],
   "source": [
    "# Die grid_search-Instanz findet die besten Parameter\n",
    "grid_search.best_params_"
   ]
  },
  {
   "cell_type": "code",
   "execution_count": 54,
   "metadata": {},
   "outputs": [
    {
     "name": "stdout",
     "output_type": "stream",
     "text": [
      "Score der besten Parameterkombination 22.05 %\n"
     ]
    }
   ],
   "source": [
    "print( \"Score der besten Parameterkombination\",-np.round(grid_search.best_score_ *100,2),\"%\")"
   ]
  },
  {
   "cell_type": "code",
   "execution_count": 55,
   "metadata": {},
   "outputs": [
    {
     "data": {
      "text/html": [
       "<style>#sk-container-id-7 {color: black;}#sk-container-id-7 pre{padding: 0;}#sk-container-id-7 div.sk-toggleable {background-color: white;}#sk-container-id-7 label.sk-toggleable__label {cursor: pointer;display: block;width: 100%;margin-bottom: 0;padding: 0.3em;box-sizing: border-box;text-align: center;}#sk-container-id-7 label.sk-toggleable__label-arrow:before {content: \"▸\";float: left;margin-right: 0.25em;color: #696969;}#sk-container-id-7 label.sk-toggleable__label-arrow:hover:before {color: black;}#sk-container-id-7 div.sk-estimator:hover label.sk-toggleable__label-arrow:before {color: black;}#sk-container-id-7 div.sk-toggleable__content {max-height: 0;max-width: 0;overflow: hidden;text-align: left;background-color: #f0f8ff;}#sk-container-id-7 div.sk-toggleable__content pre {margin: 0.2em;color: black;border-radius: 0.25em;background-color: #f0f8ff;}#sk-container-id-7 input.sk-toggleable__control:checked~div.sk-toggleable__content {max-height: 200px;max-width: 100%;overflow: auto;}#sk-container-id-7 input.sk-toggleable__control:checked~label.sk-toggleable__label-arrow:before {content: \"▾\";}#sk-container-id-7 div.sk-estimator input.sk-toggleable__control:checked~label.sk-toggleable__label {background-color: #d4ebff;}#sk-container-id-7 div.sk-label input.sk-toggleable__control:checked~label.sk-toggleable__label {background-color: #d4ebff;}#sk-container-id-7 input.sk-hidden--visually {border: 0;clip: rect(1px 1px 1px 1px);clip: rect(1px, 1px, 1px, 1px);height: 1px;margin: -1px;overflow: hidden;padding: 0;position: absolute;width: 1px;}#sk-container-id-7 div.sk-estimator {font-family: monospace;background-color: #f0f8ff;border: 1px dotted black;border-radius: 0.25em;box-sizing: border-box;margin-bottom: 0.5em;}#sk-container-id-7 div.sk-estimator:hover {background-color: #d4ebff;}#sk-container-id-7 div.sk-parallel-item::after {content: \"\";width: 100%;border-bottom: 1px solid gray;flex-grow: 1;}#sk-container-id-7 div.sk-label:hover label.sk-toggleable__label {background-color: #d4ebff;}#sk-container-id-7 div.sk-serial::before {content: \"\";position: absolute;border-left: 1px solid gray;box-sizing: border-box;top: 0;bottom: 0;left: 50%;z-index: 0;}#sk-container-id-7 div.sk-serial {display: flex;flex-direction: column;align-items: center;background-color: white;padding-right: 0.2em;padding-left: 0.2em;position: relative;}#sk-container-id-7 div.sk-item {position: relative;z-index: 1;}#sk-container-id-7 div.sk-parallel {display: flex;align-items: stretch;justify-content: center;background-color: white;position: relative;}#sk-container-id-7 div.sk-item::before, #sk-container-id-7 div.sk-parallel-item::before {content: \"\";position: absolute;border-left: 1px solid gray;box-sizing: border-box;top: 0;bottom: 0;left: 50%;z-index: -1;}#sk-container-id-7 div.sk-parallel-item {display: flex;flex-direction: column;z-index: 1;position: relative;background-color: white;}#sk-container-id-7 div.sk-parallel-item:first-child::after {align-self: flex-end;width: 50%;}#sk-container-id-7 div.sk-parallel-item:last-child::after {align-self: flex-start;width: 50%;}#sk-container-id-7 div.sk-parallel-item:only-child::after {width: 0;}#sk-container-id-7 div.sk-dashed-wrapped {border: 1px dashed gray;margin: 0 0.4em 0.5em 0.4em;box-sizing: border-box;padding-bottom: 0.4em;background-color: white;}#sk-container-id-7 div.sk-label label {font-family: monospace;font-weight: bold;display: inline-block;line-height: 1.2em;}#sk-container-id-7 div.sk-label-container {text-align: center;}#sk-container-id-7 div.sk-container {/* jupyter's `normalize.less` sets `[hidden] { display: none; }` but bootstrap.min.css set `[hidden] { display: none !important; }` so we also need the `!important` here to be able to override the default hidden behavior on the sphinx rendered scikit-learn.org. See: https://github.com/scikit-learn/scikit-learn/issues/21755 */display: inline-block !important;position: relative;}#sk-container-id-7 div.sk-text-repr-fallback {display: none;}</style><div id=\"sk-container-id-7\" class=\"sk-top-container\"><div class=\"sk-text-repr-fallback\"><pre>RandomForestRegressor(max_features=8, n_estimators=30, random_state=42)</pre><b>In a Jupyter environment, please rerun this cell to show the HTML representation or trust the notebook. <br />On GitHub, the HTML representation is unable to render, please try loading this page with nbviewer.org.</b></div><div class=\"sk-container\" hidden><div class=\"sk-item\"><div class=\"sk-estimator sk-toggleable\"><input class=\"sk-toggleable__control sk-hidden--visually\" id=\"sk-estimator-id-11\" type=\"checkbox\" checked><label for=\"sk-estimator-id-11\" class=\"sk-toggleable__label sk-toggleable__label-arrow\">RandomForestRegressor</label><div class=\"sk-toggleable__content\"><pre>RandomForestRegressor(max_features=8, n_estimators=30, random_state=42)</pre></div></div></div></div></div>"
      ],
      "text/plain": [
       "RandomForestRegressor(max_features=8, n_estimators=30, random_state=42)"
      ]
     },
     "execution_count": 55,
     "metadata": {},
     "output_type": "execute_result"
    }
   ],
   "source": [
    "# Die grid_search-Instanz kann auch einen Estimator erstellen, der die besten Parameter schon enthält.\n",
    "final_model=grid_search.best_estimator_\n",
    "final_model"
   ]
  },
  {
   "cell_type": "markdown",
   "metadata": {},
   "source": [
    "## Evaluate Your System on the Test Set"
   ]
  },
  {
   "cell_type": "code",
   "execution_count": null,
   "metadata": {},
   "outputs": [],
   "source": []
  },
  {
   "cell_type": "code",
   "execution_count": 56,
   "metadata": {},
   "outputs": [
    {
     "name": "stdout",
     "output_type": "stream",
     "text": [
      "Testdaten [[-7.e-01 -4.e-01  3.e-01 ...  0.e+00  0.e+00  0.e+00]\n",
      " [-4.e-01  1.e-01 -8.e-02 ...  0.e+00  0.e+00  0.e+00]\n",
      " [-8.e-01 -5.e-01 -2.e-01 ...  0.e+00  0.e+00  0.e+00]\n",
      " ...\n",
      " [ 3.e-01  1.e+00  2.e+00 ...  0.e+00  0.e+00  0.e+00]\n",
      " [-3.e-02  8.e-01  2.e-03 ...  0.e+00  0.e+00  0.e+00]\n",
      " [ 5.e+00 -3.e+00 -1.e+00 ...  0.e+00  0.e+00  0.e+00]]\n",
      "Testdaten 8290     113600.0\n",
      "11221     61300.0\n",
      "2008     331500.0\n",
      "8783      84200.0\n",
      "17027    152400.0\n",
      "           ...   \n",
      "14782    238300.0\n",
      "18371     96600.0\n",
      "20286    150000.0\n",
      "19257     77700.0\n",
      "11919    143700.0\n",
      "Name: median_house_value, Length: 4128, dtype: float64\n"
     ]
    }
   ],
   "source": [
    "with open('datasets/housing_test_prepared.pickle', 'rb') as f3:\n",
    "    housing_test_data = pickle.load(f3)\n",
    "print(\"Testdaten\",housing_test_data)\n",
    "\n",
    "with open('datasets/housing_test_labels.pickle', 'rb') as f3:\n",
    "    housing_test_labels = pickle.load(f3)\n",
    "print(\"Testdaten\",housing_test_labels)"
   ]
  },
  {
   "cell_type": "code",
   "execution_count": 57,
   "metadata": {},
   "outputs": [
    {
     "name": "stdout",
     "output_type": "stream",
     "text": [
      "55796.0 $\n"
     ]
    }
   ],
   "source": [
    "final_predictions = final_model.predict(housing_test_data)\n",
    "\n",
    "from sklearn.metrics import mean_squared_error\n",
    "final_rmse = np.round(mean_squared_error(housing_test_labels, final_predictions, squared=False))\n",
    "print(final_rmse,\"$\")"
   ]
  },
  {
   "cell_type": "code",
   "execution_count": 58,
   "metadata": {},
   "outputs": [
    {
     "name": "stdout",
     "output_type": "stream",
     "text": [
      "21.0 %\n"
     ]
    }
   ],
   "source": [
    "from sklearn.metrics import mean_absolute_percentage_error\n",
    "final_mape = np.round(mean_absolute_percentage_error(housing_test_labels, final_predictions)*100)\n",
    "print(final_mape,\"%\")"
   ]
  },
  {
   "cell_type": "code",
   "execution_count": 55,
   "metadata": {},
   "outputs": [],
   "source": [
    "# Anmerkung: Der Score ist hier so schlecht, \n",
    "# weil die Testmenge offenbar eine andere STruktur hat asl die Trainingsmenge"
   ]
  },
  {
   "cell_type": "markdown",
   "metadata": {},
   "source": [
    "Nur für Leute mit guten Statistik kenntnissen:\n",
    "Wir können ein 95% Konfidenz-Intervall für die test-RMSE konstruieren"
   ]
  },
  {
   "cell_type": "code",
   "execution_count": 59,
   "metadata": {},
   "outputs": [
    {
     "data": {
      "text/plain": [
       "array([53415., 58080.])"
      ]
     },
     "execution_count": 59,
     "metadata": {},
     "output_type": "execute_result"
    }
   ],
   "source": [
    "from scipy import stats\n",
    "\n",
    "confidence = 0.95\n",
    "squared_errors = (final_predictions - housing_test_labels) ** 2\n",
    "np.sqrt(stats.t.interval(confidence, len(squared_errors) - 1,\n",
    "                         loc=squared_errors.mean(),\n",
    "                         scale=stats.sem(squared_errors)))"
   ]
  },
  {
   "cell_type": "raw",
   "metadata": {},
   "source": [
    "Alternative: Wir berechnen das Konfidenzintervall selbst"
   ]
  },
  {
   "cell_type": "code",
   "execution_count": 60,
   "metadata": {},
   "outputs": [
    {
     "data": {
      "text/plain": [
       "(53414.62618182245, 58080.038037041086)"
      ]
     },
     "execution_count": 60,
     "metadata": {},
     "output_type": "execute_result"
    }
   ],
   "source": [
    "# extra code – shows how to compute a confidence interval for the RMSE\n",
    "m = len(squared_errors)\n",
    "mean = squared_errors.mean()\n",
    "tscore = stats.t.ppf((1 + confidence) / 2, df=m - 1)# T-Verteilung !\n",
    "tmargin = tscore * squared_errors.std(ddof=1) / np.sqrt(m)\n",
    "np.sqrt(mean - tmargin), np.sqrt(mean + tmargin)"
   ]
  },
  {
   "cell_type": "markdown",
   "metadata": {},
   "source": [
    "Falls der Chef das Modell gut genug findet, kann es ab jetzt im Unternehmen eingesetzt werden."
   ]
  },
  {
   "cell_type": "code",
   "execution_count": null,
   "metadata": {},
   "outputs": [],
   "source": []
  }
 ],
 "metadata": {
  "kernelspec": {
   "display_name": "Python 3 (ipykernel)",
   "language": "python",
   "name": "python3"
  },
  "language_info": {
   "codemirror_mode": {
    "name": "ipython",
    "version": 3
   },
   "file_extension": ".py",
   "mimetype": "text/x-python",
   "name": "python",
   "nbconvert_exporter": "python",
   "pygments_lexer": "ipython3",
   "version": "3.11.4"
  },
  "nav_menu": {
   "height": "279px",
   "width": "309px"
  },
  "toc": {
   "nav_menu": {},
   "number_sections": true,
   "sideBar": true,
   "skip_h1_title": false,
   "toc_cell": false,
   "toc_position": {},
   "toc_section_display": "block",
   "toc_window_display": false
  }
 },
 "nbformat": 4,
 "nbformat_minor": 4
}
